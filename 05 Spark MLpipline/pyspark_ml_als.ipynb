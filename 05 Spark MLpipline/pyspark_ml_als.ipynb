{
 "cells": [
  {
   "cell_type": "markdown",
   "metadata": {},
   "source": [
    "## 使用Spark Ml中的Als算法对MovieLens推荐"
   ]
  },
  {
   "cell_type": "code",
   "execution_count": 1,
   "metadata": {},
   "outputs": [],
   "source": [
    "from pyspark.sql import SparkSession\n",
    "spark = SparkSession.builder.appName(\"SparkSessionMoive\").master(\"local[3]\").getOrCreate()\n"
   ]
  },
  {
   "cell_type": "code",
   "execution_count": 2,
   "metadata": {},
   "outputs": [
    {
     "data": {
      "text/html": [
       "\n",
       "        <div>\n",
       "            <p><b>SparkContext</b></p>\n",
       "\n",
       "            <p><a href=\"http://192.168.31.109:4041\">Spark UI</a></p>\n",
       "\n",
       "            <dl>\n",
       "              <dt>Version</dt>\n",
       "                <dd><code>v2.4.4</code></dd>\n",
       "              <dt>Master</dt>\n",
       "                <dd><code>local[3]</code></dd>\n",
       "              <dt>AppName</dt>\n",
       "                <dd><code>SparkSessionMoive</code></dd>\n",
       "            </dl>\n",
       "        </div>\n",
       "        "
      ],
      "text/plain": [
       "<SparkContext master=local[3] appName=SparkSessionMoive>"
      ]
     },
     "execution_count": 2,
     "metadata": {},
     "output_type": "execute_result"
    }
   ],
   "source": [
    "# 获取SparkContext 实例对象\n",
    "sc = spark.sparkContext\n",
    "sc"
   ]
  },
  {
   "cell_type": "markdown",
   "metadata": {},
   "source": [
    "### 读取数据"
   ]
  },
  {
   "cell_type": "code",
   "execution_count": 15,
   "metadata": {},
   "outputs": [],
   "source": [
    "from pyspark.sql.types import StructType, StructField, IntegerType, StringType, DoubleType\n",
    "# 指定Schema信息\n",
    "rating_schema = StructType([StructField(\"userId\", IntegerType(), True),\n",
    "                           StructField(\"movieId\", IntegerType(), True),\n",
    "                           StructField(\"rating\", DoubleType(), True),\n",
    "                           StructField(\"timestamp\", StringType(), True)])"
   ]
  },
  {
   "cell_type": "code",
   "execution_count": 16,
   "metadata": {},
   "outputs": [],
   "source": [
    "raw_rating_df = spark.read.schema(rating_schema).csv(\"ml-100k/u.data\", sep='\\t')"
   ]
  },
  {
   "cell_type": "code",
   "execution_count": 17,
   "metadata": {},
   "outputs": [
    {
     "data": {
      "text/plain": [
       "100000"
      ]
     },
     "execution_count": 17,
     "metadata": {},
     "output_type": "execute_result"
    }
   ],
   "source": [
    "raw_rating_df.count()"
   ]
  },
  {
   "cell_type": "code",
   "execution_count": 18,
   "metadata": {},
   "outputs": [
    {
     "name": "stdout",
     "output_type": "stream",
     "text": [
      "+------+-------+------+---------+\n",
      "|userId|movieId|rating|timestamp|\n",
      "+------+-------+------+---------+\n",
      "|   196|    242|   3.0|881250949|\n",
      "|   186|    302|   3.0|891717742|\n",
      "|    22|    377|   1.0|878887116|\n",
      "|   244|     51|   2.0|880606923|\n",
      "|   166|    346|   1.0|886397596|\n",
      "|   298|    474|   4.0|884182806|\n",
      "|   115|    265|   2.0|881171488|\n",
      "|   253|    465|   5.0|891628467|\n",
      "|   305|    451|   3.0|886324817|\n",
      "|     6|     86|   3.0|883603013|\n",
      "+------+-------+------+---------+\n",
      "only showing top 10 rows\n",
      "\n"
     ]
    }
   ],
   "source": [
    "raw_rating_df.show(10)"
   ]
  },
  {
   "cell_type": "code",
   "execution_count": 19,
   "metadata": {},
   "outputs": [
    {
     "name": "stdout",
     "output_type": "stream",
     "text": [
      "root\n",
      " |-- userId: integer (nullable = true)\n",
      " |-- movieId: integer (nullable = true)\n",
      " |-- rating: double (nullable = true)\n",
      " |-- timestamp: string (nullable = true)\n",
      "\n"
     ]
    }
   ],
   "source": [
    "raw_rating_df.printSchema()"
   ]
  },
  {
   "cell_type": "markdown",
   "metadata": {},
   "source": [
    "### 使用ALS算法训练模型"
   ]
  },
  {
   "cell_type": "code",
   "execution_count": 20,
   "metadata": {},
   "outputs": [],
   "source": [
    "# 导入模块\n",
    "from pyspark.ml.recommendation import ALS"
   ]
  },
  {
   "cell_type": "code",
   "execution_count": 22,
   "metadata": {},
   "outputs": [],
   "source": [
    "# 构建ALS实例对象\n",
    "\"\"\"\n",
    "算法中默认值：\n",
    "rank=10, maxIter=10, regParam=0.1, numUserBlocks=10, numItemBlocks=10,\n",
    "                         implicitPrefs=False, alpha=1.0, userCol=\"user\", itemCol=\"item\",\n",
    "                         ratingCol=\"rating\", nonnegative=False, checkpointInterval=10,\n",
    "                         intermediateStorageLevel=\"MEMORY_AND_DISK\",\n",
    "                         finalStorageLevel=\"MEMORY_AND_DISK\", coldStartStrategy=\"nan\"\n",
    "\"\"\"\n",
    "als = ALS()"
   ]
  },
  {
   "cell_type": "code",
   "execution_count": 23,
   "metadata": {},
   "outputs": [
    {
     "data": {
      "text/plain": [
       "ALS_df55b858bfd9"
      ]
     },
     "execution_count": 23,
     "metadata": {},
     "output_type": "execute_result"
    }
   ],
   "source": [
    "# 设置 模型学习器ALS使用DataFrame中那几列数据进行训练\n",
    "als.setUserCol('userId')\n",
    "als.setItemCol('movieId')\n",
    "als.setRatingCol('rating')"
   ]
  },
  {
   "cell_type": "code",
   "execution_count": 24,
   "metadata": {},
   "outputs": [
    {
     "data": {
      "text/plain": [
       "ALS_df55b858bfd9"
      ]
     },
     "execution_count": 24,
     "metadata": {},
     "output_type": "execute_result"
    }
   ],
   "source": [
    "# 设置ALS模型学习器中超参数\n",
    "\"\"\"\n",
    "ALS 算法来说：\n",
    "    - 特征数: rank\n",
    "    - 迭代次数：iterations\n",
    "\"\"\"\n",
    "als.setRank(10)\n",
    "als.setMaxIter(15)\n",
    "als.setImplicitPrefs(False)"
   ]
  },
  {
   "cell_type": "code",
   "execution_count": 26,
   "metadata": {},
   "outputs": [],
   "source": [
    "# 使用数据集应用到模型学习器，得到模型（转换器）\n",
    "als_model = als.fit(raw_rating_df)"
   ]
  },
  {
   "cell_type": "code",
   "execution_count": 27,
   "metadata": {},
   "outputs": [
    {
     "name": "stdout",
     "output_type": "stream",
     "text": [
      "<class 'pyspark.ml.recommendation.ALSModel'>\n"
     ]
    }
   ],
   "source": [
    "print(type(als_model))"
   ]
  },
  {
   "cell_type": "code",
   "execution_count": 28,
   "metadata": {},
   "outputs": [],
   "source": [
    "# \n",
    "from pyspark.ml.recommendation import ALSModel"
   ]
  },
  {
   "cell_type": "code",
   "execution_count": 29,
   "metadata": {},
   "outputs": [
    {
     "name": "stdout",
     "output_type": "stream",
     "text": [
      "<class 'pyspark.sql.dataframe.DataFrame'>\n"
     ]
    }
   ],
   "source": [
    "# 获取ALSModel中物品因子矩阵\n",
    "item_factors = als_model.itemFactors\n",
    "print(type(item_factors))"
   ]
  },
  {
   "cell_type": "code",
   "execution_count": 30,
   "metadata": {},
   "outputs": [
    {
     "name": "stdout",
     "output_type": "stream",
     "text": [
      "<class 'pyspark.sql.dataframe.DataFrame'>\n"
     ]
    }
   ],
   "source": [
    "# 获取ALSModel中用户因子矩阵\n",
    "user_factors = als_model.userFactors\n",
    "print(type(user_factors))"
   ]
  },
  {
   "cell_type": "code",
   "execution_count": 31,
   "metadata": {},
   "outputs": [
    {
     "name": "stdout",
     "output_type": "stream",
     "text": [
      "+---+------------------------------------------------------------------------------------------------------------------------------+\n",
      "|id |features                                                                                                                      |\n",
      "+---+------------------------------------------------------------------------------------------------------------------------------+\n",
      "|10 |[-0.6225715, -0.8438259, 0.53652626, -0.87513846, -0.5097637, -1.4014138, 0.16817763, -0.10034704, -0.3019759, -0.7426551]    |\n",
      "|20 |[-0.8465669, -1.3644813, 1.1620916, -0.3416207, -0.07504084, -0.38107634, 0.07485855, -0.31202236, 0.51366293, -0.5041428]    |\n",
      "|30 |[-0.6043329, -0.97526544, 0.40774328, -1.1256114, -0.70766014, -1.0653867, -0.10305666, -0.075621665, -0.55529684, -0.7953676]|\n",
      "|40 |[-0.5652873, -0.825111, 0.36425748, -0.9720523, -0.9000827, -0.7889517, -0.4281875, 0.012759478, 0.60283214, -0.087252714]    |\n",
      "|50 |[-0.7998391, -0.36401668, -0.34848952, -0.3899193, -1.25849, -1.081518, -1.3489134, 0.7196884, -0.040076394, -0.5689772]      |\n",
      "|60 |[-0.5880097, -0.8545143, 0.59745723, -0.8614383, -0.45946035, -1.4630239, -0.149645, 0.094928674, -0.09839196, -0.5670933]    |\n",
      "|70 |[-0.66077316, -0.80908716, 0.6103612, -0.45666733, -0.44914913, -1.2095318, -0.02240722, -0.17697327, -0.43639582, -0.6312112]|\n",
      "|80 |[0.08022152, -0.6522775, 0.6747653, -0.9776648, -0.8168334, -1.0752934, 0.21294063, -0.38950726, -0.27885315, -0.7798173]     |\n",
      "|90 |[-0.6446114, -1.0183203, 0.62251645, -0.998473, -0.06585679, -1.378325, 0.26661858, -0.048875693, -0.5431003, -0.6251023]     |\n",
      "|100|[-0.8635232, -0.77205426, 1.0591607, -0.6640273, -0.31180212, -0.7221167, -0.18133982, 0.006203505, -0.60389686, -0.56984156] |\n",
      "+---+------------------------------------------------------------------------------------------------------------------------------+\n",
      "only showing top 10 rows\n",
      "\n"
     ]
    }
   ],
   "source": [
    "user_factors.show(10,False)"
   ]
  },
  {
   "cell_type": "markdown",
   "metadata": {},
   "source": [
    "### 使用模型（转换器）预测与推荐"
   ]
  },
  {
   "cell_type": "code",
   "execution_count": 32,
   "metadata": {},
   "outputs": [],
   "source": [
    "# 针对某个用户对某个物品的预测评分:  196 -> 242\n",
    "test_df = spark.createDataFrame([(196, 242)], [\"userId\", \"movieId\"])\n",
    "\n",
    "predict_df = als_model.transform(test_df)"
   ]
  },
  {
   "cell_type": "code",
   "execution_count": 33,
   "metadata": {},
   "outputs": [
    {
     "name": "stdout",
     "output_type": "stream",
     "text": [
      "+------+-------+----------+\n",
      "|userId|movieId|prediction|\n",
      "+------+-------+----------+\n",
      "|   196|    242|  3.769358|\n",
      "+------+-------+----------+\n",
      "\n"
     ]
    }
   ],
   "source": [
    "predict_df.show()"
   ]
  },
  {
   "cell_type": "code",
   "execution_count": 34,
   "metadata": {},
   "outputs": [],
   "source": [
    "# 使用模型学习器进行推荐\n",
    "# max number of recommendations for each user\n",
    "rmd_items = als_model.recommendForAllUsers(5)"
   ]
  },
  {
   "cell_type": "code",
   "execution_count": 35,
   "metadata": {},
   "outputs": [
    {
     "name": "stdout",
     "output_type": "stream",
     "text": [
      "+------+-------------------------------------------------------------------------------------------+\n",
      "|userId|recommendations                                                                            |\n",
      "+------+-------------------------------------------------------------------------------------------+\n",
      "|471   |[[394, 4.932488], [989, 4.916443], [1217, 4.7986455], [353, 4.7336373], [342, 4.71447]]    |\n",
      "|463   |[[1240, 4.446023], [850, 4.302981], [958, 4.286317], [408, 4.2617993], [114, 4.23605]]     |\n",
      "|833   |[[1368, 4.810341], [1512, 4.6749277], [320, 4.5731263], [1597, 4.414792], [641, 4.328008]] |\n",
      "|496   |[[1589, 4.4463654], [75, 4.350847], [1388, 4.152881], [42, 4.144475], [838, 4.133501]]     |\n",
      "|148   |[[793, 5.023424], [1367, 5.0215263], [169, 4.9850044], [408, 4.9648523], [50, 4.9319296]]  |\n",
      "|540   |[[1449, 4.9776034], [1642, 4.811192], [1398, 4.742763], [1122, 4.6948037], [1467, 4.61261]]|\n",
      "|392   |[[1463, 5.634221], [1643, 5.34472], [1449, 5.0971856], [483, 4.9610443], [1398, 4.9228277]]|\n",
      "|243   |[[1449, 4.6368837], [1558, 4.4894857], [1398, 4.47742], [1642, 4.395046], [1463, 4.276153]]|\n",
      "|623   |[[1463, 4.7022276], [1643, 4.650328], [408, 4.461424], [496, 4.439874], [483, 4.374962]]   |\n",
      "|737   |[[512, 4.902921], [1449, 4.8046556], [1405, 4.743008], [1388, 4.7288327], [902, 4.7269826]]|\n",
      "+------+-------------------------------------------------------------------------------------------+\n",
      "only showing top 10 rows\n",
      "\n"
     ]
    }
   ],
   "source": [
    "rmd_items.show(10, False)"
   ]
  },
  {
   "cell_type": "code",
   "execution_count": 36,
   "metadata": {},
   "outputs": [
    {
     "name": "stdout",
     "output_type": "stream",
     "text": [
      "+-------+------------------------------------------------------------------------+\n",
      "|movieId|recommendations                                                         |\n",
      "+-------+------------------------------------------------------------------------+\n",
      "|1580   |[[688, 1.0908505], [589, 1.0816689], [152, 1.0683241], [38, 1.0672272]] |\n",
      "|471    |[[688, 5.0383673], [507, 4.9686756], [628, 4.8877163], [849, 4.783285]] |\n",
      "|1591   |[[34, 5.0194407], [204, 4.9763966], [519, 4.9293365], [440, 4.849055]]  |\n",
      "|1342   |[[928, 4.0866957], [810, 3.892243], [427, 3.8740363], [662, 3.8226976]] |\n",
      "|463    |[[810, 5.1099505], [157, 4.81986], [270, 4.766249], [770, 4.7517185]]   |\n",
      "|833    |[[887, 5.040162], [507, 4.6668177], [427, 4.60401], [137, 4.575993]]    |\n",
      "|1645   |[[628, 5.682767], [928, 5.551585], [507, 5.4509673], [4, 5.439583]]     |\n",
      "|496    |[[688, 5.6025324], [810, 5.4708586], [152, 5.269155], [732, 5.1957483]] |\n",
      "|148    |[[127, 5.0616274], [507, 4.958015], [849, 4.704055], [907, 4.6265583]]  |\n",
      "|1088   |[[127, 4.0756106], [642, 3.7450795], [471, 3.6400616], [771, 3.6084657]]|\n",
      "+-------+------------------------------------------------------------------------+\n",
      "only showing top 10 rows\n",
      "\n"
     ]
    }
   ],
   "source": [
    "# 使用模型学习器为物品推荐用户（推荐4用户）\n",
    "als_model.recommendForAllItems(4).show(10, False)"
   ]
  },
  {
   "cell_type": "markdown",
   "metadata": {},
   "source": [
    "### 模型保存与加载"
   ]
  },
  {
   "cell_type": "code",
   "execution_count": 37,
   "metadata": {},
   "outputs": [],
   "source": [
    "# 保存 ALSModel\n",
    "als_model.save('./als-ml-model')"
   ]
  },
  {
   "cell_type": "code",
   "execution_count": 38,
   "metadata": {},
   "outputs": [],
   "source": [
    "from pyspark.ml.recommendation import ALSModel\n",
    "# 加载模型\n",
    "load_als_model = ALSModel.load('./als-ml-model')"
   ]
  },
  {
   "cell_type": "code",
   "execution_count": 39,
   "metadata": {},
   "outputs": [
    {
     "name": "stdout",
     "output_type": "stream",
     "text": [
      "+------+-------+----------+\n",
      "|userId|movieId|prediction|\n",
      "+------+-------+----------+\n",
      "|   196|    242|  3.769358|\n",
      "+------+-------+----------+\n",
      "\n"
     ]
    }
   ],
   "source": [
    "load_als_model\\\n",
    "    .transform(spark.createDataFrame([(196, 242)], [\"userId\", \"movieId\"]))\\\n",
    "    .show()"
   ]
  },
  {
   "cell_type": "markdown",
   "metadata": {},
   "source": [
    "### 模型评估"
   ]
  },
  {
   "cell_type": "code",
   "execution_count": 40,
   "metadata": {},
   "outputs": [],
   "source": [
    "# 导入模块\n",
    "from pyspark.ml.evaluation import RegressionEvaluator"
   ]
  },
  {
   "cell_type": "code",
   "execution_count": 42,
   "metadata": {},
   "outputs": [],
   "source": [
    "# 使用加载得到的模型进行预测\n",
    "predict_rating_df = load_als_model.transform(raw_rating_df)"
   ]
  },
  {
   "cell_type": "code",
   "execution_count": 43,
   "metadata": {},
   "outputs": [
    {
     "name": "stdout",
     "output_type": "stream",
     "text": [
      "+------+-------+------+---------+----------+\n",
      "|userId|movieId|rating|timestamp|prediction|\n",
      "+------+-------+------+---------+----------+\n",
      "|196   |242    |3.0   |881250949|3.769358  |\n",
      "|186   |302    |3.0   |891717742|3.164205  |\n",
      "|22    |377    |1.0   |878887116|1.1317086 |\n",
      "|244   |51     |2.0   |880606923|3.354837  |\n",
      "|166   |346    |1.0   |886397596|2.0713725 |\n",
      "|298   |474    |4.0   |884182806|4.062204  |\n",
      "|115   |265    |2.0   |881171488|3.208923  |\n",
      "|253   |465    |5.0   |891628467|3.7699301 |\n",
      "|305   |451    |3.0   |886324817|2.9533622 |\n",
      "|6     |86     |3.0   |883603013|3.507125  |\n",
      "+------+-------+------+---------+----------+\n",
      "only showing top 10 rows\n",
      "\n"
     ]
    }
   ],
   "source": [
    "predict_rating_df.show(10, False)"
   ]
  },
  {
   "cell_type": "code",
   "execution_count": 44,
   "metadata": {},
   "outputs": [],
   "source": [
    "evaluator = RegressionEvaluator(labelCol='rating', predictionCol='prediction')"
   ]
  },
  {
   "cell_type": "code",
   "execution_count": 47,
   "metadata": {},
   "outputs": [
    {
     "data": {
      "text/plain": [
       "0.7665513159768549"
      ]
     },
     "execution_count": 47,
     "metadata": {},
     "output_type": "execute_result"
    }
   ],
   "source": [
    "\"\"\"\n",
    "    metricName = Param(Params._dummy(), \"metricName\",\n",
    "                       metric name in evaluation - one of:\n",
    "                       rmse - root mean squared error (default)\n",
    "                       mse - mean squared error\n",
    "                       r2 - r^2 metric\n",
    "                       mae - mean absolute error.,\n",
    "                       typeConverter=TypeConverters.toString)\n",
    "\"\"\"\n",
    "evaluator.evaluate(predict_rating_df, {evaluator.metricName: 'rmse'})"
   ]
  },
  {
   "cell_type": "code",
   "execution_count": 48,
   "metadata": {},
   "outputs": [
    {
     "data": {
      "text/plain": [
       "0.5362735701331607"
      ]
     },
     "execution_count": 48,
     "metadata": {},
     "output_type": "execute_result"
    }
   ],
   "source": [
    "evaluator.evaluate(predict_rating_df, {evaluator.metricName: 'r2'})"
   ]
  },
  {
   "cell_type": "code",
   "execution_count": 49,
   "metadata": {},
   "outputs": [],
   "source": [
    "spark.stop()"
   ]
  }
 ],
 "metadata": {
  "kernelspec": {
   "display_name": "Python 3",
   "language": "python",
   "name": "python3"
  },
  "language_info": {
   "codemirror_mode": {
    "name": "ipython",
    "version": 3
   },
   "file_extension": ".py",
   "mimetype": "text/x-python",
   "name": "python",
   "nbconvert_exporter": "python",
   "pygments_lexer": "ipython3",
   "version": "3.7.3"
  }
 },
 "nbformat": 4,
 "nbformat_minor": 2
}
