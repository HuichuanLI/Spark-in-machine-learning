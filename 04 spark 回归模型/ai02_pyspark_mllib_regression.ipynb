{
 "cells": [
  {
   "cell_type": "code",
   "execution_count": 1,
   "metadata": {},
   "outputs": [
    {
     "name": "stdout",
     "output_type": "stream",
     "text": [
      "\n"
     ]
    }
   ],
   "source": [
    "\"\"\"\n",
    "共享单车数据集：\n",
    "    http://archive.ics.uci.edu/ml/datasets/Bike+Sharing+Dataset\n",
    "\"\"\"\n",
    "print"
   ]
  },
  {
   "cell_type": "code",
   "execution_count": 2,
   "metadata": {},
   "outputs": [
    {
     "name": "stdout",
     "output_type": "stream",
     "text": [
      "\n"
     ]
    }
   ],
   "source": [
    "\"\"\"\n",
    "\t1- instant: record index\n",
    "\t2- dteday : date\n",
    "\t3- season : season (1:springer, 2:summer, 3:fall, 4:winter)\n",
    "\t4- yr : year (0: 2011, 1:2012)\n",
    "\t5- mnth : month ( 1 to 12)\n",
    "\t6- hr : hour (0 to 23)\n",
    "\t7- holiday : weather day is holiday or not (extracted from http://dchr.dc.gov/page/holiday-schedule)\n",
    "\t8- weekday : day of the week\n",
    "\t9- workingday : if day is neither weekend nor holiday is 1, otherwise is 0.\n",
    "\t10+ weathersit : \n",
    "\t\t- 1: Clear, Few clouds, Partly cloudy, Partly cloudy\n",
    "\t\t- 2: Mist + Cloudy, Mist + Broken clouds, Mist + Few clouds, Mist\n",
    "\t\t- 3: Light Snow, Light Rain + Thunderstorm + Scattered clouds, Light Rain + Scattered clouds\n",
    "\t\t- 4: Heavy Rain + Ice Pallets + Thunderstorm + Mist, Snow + Fog\n",
    "\t11- temp : Normalized temperature in Celsius. The values are divided to 41 (max)\n",
    "\t12- atemp: Normalized feeling temperature in Celsius. The values are divided to 50 (max)\n",
    "\t13- hum: Normalized humidity. The values are divided to 100 (max)\n",
    "\t14- windspeed: Normalized wind speed. The values are divided to 67 (max)\n",
    "\t15- casual: count of casual users\n",
    "\t16- registered: count of registered users\n",
    "\t17- cnt: count of total rental bikes including both casual and registered\n",
    "\"\"\"\n",
    "print"
   ]
  },
  {
   "cell_type": "code",
   "execution_count": 3,
   "metadata": {
    "collapsed": true
   },
   "outputs": [],
   "source": [
    "# 导入模块 pyspark\n",
    "from pyspark import SparkConf, SparkContext\n",
    "# 导入系统模块\n",
    "import os\n",
    "import time"
   ]
  },
  {
   "cell_type": "code",
   "execution_count": 4,
   "metadata": {
    "collapsed": true
   },
   "outputs": [],
   "source": [
    "# 设置环境变量\n",
    "os.environ['JAVA_HOME'] = 'C:\\Java\\jdk1.8.0_91'\n",
    "# HADOOP在Windows的兼容性问题  主要需要$HADOOP_HOME/lib中winutils.exe等文件\n",
    "os.environ['HADOOP_HOME'] = 'C:\\Java\\hadoop-2.6.0-cdh5.7.6'\n",
    "# 设置SPARK_HOME环境变量, 非常重要, 如果没有设置的话,SparkApplication运行不了\n",
    "os.environ['SPARK_HOME'] = 'C:\\Java\\spark-2.2.0-bin-2.6.0-cdh5.7.6'\n",
    "\n",
    "# Create SparkConf\n",
    "sparkConf = SparkConf()\\\n",
    "    .setAppName('Python_Spark_Regression')\\\n",
    "    .setMaster('local[4]')\n",
    "# Create SparkContext\n",
    "sc = SparkContext(conf=sparkConf)"
   ]
  },
  {
   "cell_type": "code",
   "execution_count": 5,
   "metadata": {},
   "outputs": [
    {
     "name": "stdout",
     "output_type": "stream",
     "text": [
      "<SparkContext master=local[4] appName=Python_Spark_Regression>\n"
     ]
    }
   ],
   "source": [
    "print(sc)"
   ]
  },
  {
   "cell_type": "markdown",
   "metadata": {},
   "source": [
    "### 定义函数提取特征和标签"
   ]
  },
  {
   "cell_type": "code",
   "execution_count": 23,
   "metadata": {
    "collapsed": true
   },
   "outputs": [],
   "source": [
    "# 提取标签字段\n",
    "def extract_label(record):\n",
    "    label=(record[-1])\n",
    "    return float(label)"
   ]
  },
  {
   "cell_type": "code",
   "execution_count": 24,
   "metadata": {
    "collapsed": true
   },
   "outputs": [],
   "source": [
    "# 定义 一个函数，转换数值类型\n",
    "def convert_float(x):\n",
    "    return 0 if x == \"?\" else float(x)"
   ]
  },
  {
   "cell_type": "code",
   "execution_count": 133,
   "metadata": {
    "collapsed": true
   },
   "outputs": [],
   "source": [
    "import numpy as np\n",
    "\n",
    "# 定义函数提取特征features\n",
    "def extract_features(record, end_index):\n",
    "    # 获取季节字段特征值\n",
    "    feature_serson = [convert_float(record[2])]\n",
    "    \n",
    "    # 从 5-month月份开始 字段特征到 风速14-windspeed 特征\n",
    "    features = [convert_float(field) for field in record[4: end_index]]\n",
    "    \n",
    "    # 合并特征值\n",
    "    return np.concatenate((feature_serson, features))"
   ]
  },
  {
   "cell_type": "code",
   "execution_count": 27,
   "metadata": {
    "collapsed": true
   },
   "outputs": [],
   "source": [
    "record = [u'1', u'2011-01-01', u'1', u'0', u'1', u'0', u'0', u'6', u'0', u'1', u'0.24', u'0.2879', u'0.81', u'0', u'3', u'13', u'16']"
   ]
  },
  {
   "cell_type": "code",
   "execution_count": 28,
   "metadata": {},
   "outputs": [
    {
     "data": {
      "text/plain": [
       "16.0"
      ]
     },
     "execution_count": 28,
     "metadata": {},
     "output_type": "execute_result"
    }
   ],
   "source": [
    "extract_label(record)"
   ]
  },
  {
   "cell_type": "code",
   "execution_count": 29,
   "metadata": {},
   "outputs": [
    {
     "data": {
      "text/plain": [
       "array([ 1.    ,  1.    ,  0.    ,  0.    ,  6.    ,  0.    ,  1.    ,\n",
       "        0.24  ,  0.2879,  0.81  ,  0.    ])"
      ]
     },
     "execution_count": 29,
     "metadata": {},
     "output_type": "execute_result"
    }
   ],
   "source": [
    "extract_features(record, 14)"
   ]
  },
  {
   "cell_type": "markdown",
   "metadata": {},
   "source": [
    "### 数据准备阶段"
   ]
  },
  {
   "cell_type": "code",
   "execution_count": 134,
   "metadata": {
    "collapsed": true
   },
   "outputs": [],
   "source": [
    "from pyspark.mllib.regression import LabeledPoint\n",
    "\n",
    "# 预处理数据\n",
    "def prepare_data(spark_contex):\n",
    "    # ------------------------ 1. 导入数据并转换数据  ------------------------\n",
    "    raw_data_with_header = spark_contex.textFile(\"./datas/hour.csv\")\n",
    "    \n",
    "    # 获取第一条数据\n",
    "    header_data = raw_data_with_header.first()\n",
    "    # print(header_data)\n",
    "    # 过滤掉第一条数据\n",
    "    raw_data = raw_data_with_header.filter(lambda line: line != header_data)\n",
    "    \n",
    "    # 每行数据使用逗号分隔\n",
    "    datas_rdd = raw_data.map(lambda line: line.split(','))\n",
    "    # print(datas_rdd.first())\n",
    "    # print(\"count = \"+ str(datas_rdd.count()))\n",
    "    \n",
    "    # ------------------------ 2.导入数据并转换数建立模型训练所需数据RDD[LabeledPoint]  ------------------------\n",
    "    lp_rdd = datas_rdd.map(lambda r: LabeledPoint(extract_label(r), extract_features(r, -3)))\n",
    "    # print(lp_rdd.first())\n",
    "    \n",
    "    # ------------------------ 3.以随机方式将数据集分为3个部分并且返回  ------------------------\n",
    "    (train_data, validation_data, test_data) = lp_rdd.randomSplit([8, 1, 1])\n",
    "    \n",
    "    # 返回\n",
    "    return train_data, validation_data, test_data"
   ]
  },
  {
   "cell_type": "code",
   "execution_count": 69,
   "metadata": {},
   "outputs": [],
   "source": [
    "\"\"\"\n",
    "数据预处理\n",
    "\"\"\"\n",
    "train_rdd, validation_rdd, test_rdd = prepare_data(sc)"
   ]
  },
  {
   "cell_type": "code",
   "execution_count": 39,
   "metadata": {},
   "outputs": [
    {
     "name": "stdout",
     "output_type": "stream",
     "text": [
      "训练数据：13896\n",
      "验证数据：1698\n",
      "测试数据：1785\n"
     ]
    }
   ],
   "source": [
    "# 缓存数据\n",
    "print(\"训练数据：\" + str(train_rdd.persist().count()))\n",
    "print(\"验证数据：\" + str(validation_rdd.persist().count()))\n",
    "print(\"测试数据：\" + str(test_rdd.persist().count()))"
   ]
  },
  {
   "cell_type": "markdown",
   "metadata": {},
   "source": [
    "## 训练评估阶段"
   ]
  },
  {
   "cell_type": "markdown",
   "metadata": {},
   "source": [
    "### 定义模型评估函数"
   ]
  },
  {
   "cell_type": "code",
   "execution_count": 42,
   "metadata": {},
   "outputs": [],
   "source": [
    "# 导入回归模型评估指标\n",
    "from pyspark.mllib.evaluation import RegressionMetrics\n",
    "\n",
    "# 评估模型函数\n",
    "def evaluate_model(model, validation_datas):\n",
    "    # 使用模型对验证数据集进行预测\n",
    "    score = model.predict(validation_datas.map(lambda lp: lp.features))\n",
    "    \n",
    "    # 合并预测值与真实值\n",
    "    score_and_labels = score.zip(validation_datas.map(lambda lp: lp.label))\n",
    "    \n",
    "    # Instantiate metrics object\n",
    "    metrics = RegressionMetrics(score_and_labels)\n",
    "    \n",
    "    # 获取RMSE并返回\n",
    "    return metrics.rootMeanSquaredError"
   ]
  },
  {
   "cell_type": "markdown",
   "metadata": {},
   "source": [
    "### 训练模型及评估"
   ]
  },
  {
   "cell_type": "code",
   "execution_count": 43,
   "metadata": {
    "collapsed": true
   },
   "outputs": [],
   "source": [
    "# 使用训练数据集训练模型，使用算法：决策树算法\n",
    "from pyspark.mllib.tree import DecisionTree"
   ]
  },
  {
   "cell_type": "code",
   "execution_count": 51,
   "metadata": {
    "collapsed": true
   },
   "outputs": [],
   "source": [
    "\"\"\"\n",
    "def trainRegressor(cls, data, categoricalFeaturesInfo,\n",
    "        impurity=\"variance\", maxDepth=5, maxBins=32, minInstancesPerNode=1,\n",
    "        minInfoGain=0.0)\n",
    "\"\"\"\n",
    "dtr_model = DecisionTree.trainRegressor(train_rdd, {}, maxDepth=10, maxBins=64)"
   ]
  },
  {
   "cell_type": "code",
   "execution_count": 46,
   "metadata": {},
   "outputs": [
    {
     "data": {
      "text/plain": [
       "114.851108311838"
      ]
     },
     "execution_count": 46,
     "metadata": {},
     "output_type": "execute_result"
    }
   ],
   "source": [
    "# depth=5, bins=32\n",
    "evaluate_model(dtr_model, validation_rdd)"
   ]
  },
  {
   "cell_type": "code",
   "execution_count": 48,
   "metadata": {},
   "outputs": [
    {
     "data": {
      "text/plain": [
       "78.49755588963191"
      ]
     },
     "execution_count": 48,
     "metadata": {},
     "output_type": "execute_result"
    }
   ],
   "source": [
    "# depth=10, bins=32\n",
    "evaluate_model(dtr_model, validation_rdd)"
   ]
  },
  {
   "cell_type": "code",
   "execution_count": 50,
   "metadata": {},
   "outputs": [
    {
     "data": {
      "text/plain": [
       "87.54789040981262"
      ]
     },
     "execution_count": 50,
     "metadata": {},
     "output_type": "execute_result"
    }
   ],
   "source": [
    "# depth=10, bins=16\n",
    "evaluate_model(dtr_model, validation_rdd)"
   ]
  },
  {
   "cell_type": "code",
   "execution_count": 52,
   "metadata": {},
   "outputs": [
    {
     "data": {
      "text/plain": [
       "78.9234729929176"
      ]
     },
     "execution_count": 52,
     "metadata": {},
     "output_type": "execute_result"
    }
   ],
   "source": [
    "# depth=10, bins=64\n",
    "evaluate_model(dtr_model, validation_rdd)"
   ]
  },
  {
   "cell_type": "markdown",
   "metadata": {},
   "source": [
    "### 指定决策树中类别特征"
   ]
  },
  {
   "cell_type": "code",
   "execution_count": null,
   "metadata": {
    "collapsed": true
   },
   "outputs": [],
   "source": [
    "\"\"\"\n",
    "类别特征：\n",
    "\t3- season : season (1:springer, 2:summer, 3:fall, 4:winter)\n",
    "    1、2、3、4  ->  0、1、2、3\n",
    "\t5- mnth : month ( 1 to 12)\n",
    "    \n",
    "\t6- hr : hour (0 to 23)\n",
    "        不需要\n",
    "\t7- holiday : weather day is holiday or not (extracted from http://dchr.dc.gov/page/holiday-schedule)\n",
    "        不需要\n",
    "\t8- weekday : day of the week\n",
    "        一周的第几天\n",
    "\t9- workingday : if day is neither weekend nor holiday is 1, otherwise is 0.\n",
    "        不需要\n",
    "\t10+ weathersit : \n",
    "\t\t- 1: Clear, Few clouds, Partly cloudy, Partly cloudy\n",
    "\t\t- 2: Mist + Cloudy, Mist + Broken clouds, Mist + Few clouds, Mist\n",
    "\t\t- 3: Light Snow, Light Rain + Thunderstorm + Scattered clouds, Light Rain + Scattered clouds\n",
    "\t\t- 4: Heavy Rain + Ice Pallets + Thunderstorm + Mist, Snow + Fog\n",
    "    \n",
    "数值特征：归一化\n",
    "\t11- temp : Normalized temperature in Celsius. The values are divided to 41 (max)\n",
    "\t12- atemp: Normalized feeling temperature in Celsius. The values are divided to 50 (max)\n",
    "\t13- hum: Normalized humidity. The values are divided to 100 (max)\n",
    "\t14- windspeed: Normalized wind speed. The values are divided to 67 (max)\n",
    "标签\n",
    "\t17- cnt: count of total rental bikes including both casual and registered\n",
    "\"\"\"\n",
    "print"
   ]
  },
  {
   "cell_type": "code",
   "execution_count": 114,
   "metadata": {
    "collapsed": true
   },
   "outputs": [],
   "source": [
    "import numpy as np\n",
    "\n",
    "# 定义函数提取特征features\n",
    "def extract_features_catogery(record, end_index):\n",
    "    # 获取季节字段特征值\n",
    "    feature_serson = [convert_float(record[2]) - 1]\n",
    "    # 获取月份字段特征 值\n",
    "    feature_month = [convert_float(record[4]) - 1]\n",
    "    # 获取weekday字段特征值\n",
    "    feature_weekday = [convert_float(record[7])]\n",
    "    # 获取weathersit字段特征值\n",
    "    feature_weathersit = [convert_float(record[9]) - 1]\n",
    "    \n",
    "    # 其他类别特征\n",
    "    feature_hr = [convert_float(record[5])]\n",
    "    feature_holiday = [convert_float(record[6])]\n",
    "    feature_workingday = [convert_float(record[8])]\n",
    "    \n",
    "    # 从 12-temp 字段特征到 风速14-windspeed 特征\n",
    "    features = [convert_float(field) for field in record[10: end_index]]\n",
    "    \n",
    "    # 合并特征值   \n",
    "    return np.concatenate((feature_serson, feature_month, feature_weekday, \n",
    "       feature_weathersit, feature_hr, feature_holiday, feature_workingday, features))"
   ]
  },
  {
   "cell_type": "code",
   "execution_count": 115,
   "metadata": {
    "collapsed": true
   },
   "outputs": [],
   "source": [
    "from pyspark.mllib.regression import LabeledPoint\n",
    "\n",
    "# 预处理数据\n",
    "def prepare_data_catogery(spark_contex):\n",
    "    # ------------------------ 1. 导入数据并转换数据  ------------------------\n",
    "    raw_data_with_header = spark_contex.textFile(\"./datas/hour.csv\")\n",
    "    \n",
    "    # 获取第一条数据\n",
    "    header_data = raw_data_with_header.first()\n",
    "    # print(header_data)\n",
    "    # 过滤掉第一条数据\n",
    "    raw_data = raw_data_with_header.filter(lambda line: line != header_data)\n",
    "    \n",
    "    # 每行数据使用逗号分隔\n",
    "    datas_rdd = raw_data.map(lambda line: line.split(','))\n",
    "    # print(datas_rdd.first())\n",
    "    # print(\"count = \"+ str(datas_rdd.count()))\n",
    "    \n",
    "    # ------------------------ 2.导入数据并转换数建立模型训练所需数据RDD[LabeledPoint]  ------------------------\n",
    "    lp_rdd = datas_rdd.map(lambda r: LabeledPoint(extract_label(r), \n",
    "                                                  extract_features_catogery(r, -3)))\n",
    "    # print(lp_rdd.first())\n",
    "    \n",
    "    # ------------------------ 3.以随机方式将数据集分为3个部分并且返回  ------------------------\n",
    "    (train_data, validation_data, test_data) = lp_rdd.randomSplit([8, 1, 1])\n",
    "    \n",
    "    # 返回\n",
    "    return train_data, validation_data, test_data"
   ]
  },
  {
   "cell_type": "code",
   "execution_count": 116,
   "metadata": {},
   "outputs": [],
   "source": [
    "train_rdd2, validation_rdd2, test_rdd2 = prepare_data_catogery(sc)"
   ]
  },
  {
   "cell_type": "code",
   "execution_count": 117,
   "metadata": {},
   "outputs": [
    {
     "name": "stdout",
     "output_type": "stream",
     "text": [
      "[0.0, 2.0, 1.0, 3.0]\n",
      "[0.0, 2.0, 4.0, 6.0, 8.0, 10.0, 1.0, 3.0, 5.0, 7.0, 9.0, 11.0]\n",
      "[0.0, 2.0, 4.0, 6.0, 1.0, 3.0, 5.0]\n",
      "[0.0, 2.0, 1.0, 3.0]\n",
      "[0.0, 2.0, 4.0, 6.0, 8.0, 10.0, 12.0, 14.0, 16.0, 18.0, 20.0, 22.0, 1.0, 3.0, 5.0, 7.0, 9.0, 11.0, 13.0, 15.0, 17.0, 19.0, 21.0, 23.0]\n",
      "[0.0, 1.0]\n",
      "[0.0, 1.0]\n"
     ]
    }
   ],
   "source": [
    "# season\n",
    "print train_rdd2.map(lambda r: r.features[0]).distinct().collect() \n",
    "# month\n",
    "print train_rdd2.map(lambda r: r.features[1]).distinct().collect() \n",
    "# weekday\n",
    "print train_rdd2.map(lambda r: r.features[2]).distinct().collect() \n",
    "# weathersit\n",
    "print train_rdd2.map(lambda r: r.features[3]).distinct().collect() \n",
    "# hr\n",
    "print train_rdd2.map(lambda r: r.features[4]).distinct().collect() \n",
    "# weathersit\n",
    "print train_rdd2.map(lambda r: r.features[5]).distinct().collect() \n",
    "# workingday\n",
    "print train_rdd2.map(lambda r: r.features[6]).distinct().collect() "
   ]
  },
  {
   "cell_type": "code",
   "execution_count": 118,
   "metadata": {},
   "outputs": [
    {
     "data": {
      "text/plain": [
       "[LabeledPoint(16.0, [0.0,0.0,6.0,0.0,0.0,0.0,0.0,0.24,0.2879,0.81,0.0])]"
      ]
     },
     "execution_count": 118,
     "metadata": {},
     "output_type": "execute_result"
    }
   ],
   "source": [
    "train_rdd2.take(1)"
   ]
  },
  {
   "cell_type": "code",
   "execution_count": 121,
   "metadata": {},
   "outputs": [],
   "source": [
    "\"\"\"\n",
    "def trainRegressor(cls, data, categoricalFeaturesInfo,\n",
    "        impurity=\"variance\", maxDepth=5, maxBins=32, minInstancesPerNode=1,\n",
    "        minInfoGain=0.0)\n",
    "\n",
    ":param categoricalFeaturesInfo:\n",
    "          Map storing arity of categorical features. An entry (n -> k)\n",
    "          indicates that feature n is categorical with k categories\n",
    "          indexed from 0: {0, 1, ..., k-1}.\n",
    "\"\"\"\n",
    "dtr_model2 = DecisionTree.trainRegressor(train_rdd2, \n",
    "                    {0: 4, 1: 12, 2: 7, 3: 4, 4: 24, 5: 2, 6: 2}, \n",
    "                     maxDepth=10, maxBins=64)"
   ]
  },
  {
   "cell_type": "code",
   "execution_count": 122,
   "metadata": {},
   "outputs": [
    {
     "data": {
      "text/plain": [
       "DecisionTreeModel regressor of depth 10 with 1807 nodes"
      ]
     },
     "execution_count": 122,
     "metadata": {},
     "output_type": "execute_result"
    }
   ],
   "source": [
    "dtr_model2"
   ]
  },
  {
   "cell_type": "code",
   "execution_count": 123,
   "metadata": {},
   "outputs": [
    {
     "data": {
      "text/plain": [
       "81.35539570062727"
      ]
     },
     "execution_count": 123,
     "metadata": {},
     "output_type": "execute_result"
    }
   ],
   "source": [
    "# 评估决策树回归模型\n",
    "evaluate_model(dtr_model2, validation_rdd2)"
   ]
  },
  {
   "cell_type": "markdown",
   "metadata": {},
   "source": [
    "### 随机森林回归算法"
   ]
  },
  {
   "cell_type": "code",
   "execution_count": 127,
   "metadata": {},
   "outputs": [],
   "source": [
    "from pyspark.mllib.tree import RandomForest\n",
    "\n",
    "rfr_model = RandomForest.trainRegressor(train_rdd2, \n",
    "                    {0: 4, 1: 12, 2: 7, 3: 4, 4: 24, 5: 2, 6: 2}, 20,\n",
    "                     maxDepth=10, maxBins=64)"
   ]
  },
  {
   "cell_type": "code",
   "execution_count": 128,
   "metadata": {},
   "outputs": [
    {
     "data": {
      "text/plain": [
       "76.79614178638674"
      ]
     },
     "execution_count": 128,
     "metadata": {},
     "output_type": "execute_result"
    }
   ],
   "source": [
    "evaluate_model(rfr_model, validation_rdd2)"
   ]
  },
  {
   "cell_type": "markdown",
   "metadata": {},
   "source": [
    "### GBT回归算法"
   ]
  },
  {
   "cell_type": "code",
   "execution_count": 129,
   "metadata": {
    "collapsed": true
   },
   "outputs": [],
   "source": [
    "from pyspark.mllib.tree import GradientBoostedTrees"
   ]
  },
  {
   "cell_type": "code",
   "execution_count": 130,
   "metadata": {
    "collapsed": true
   },
   "outputs": [],
   "source": [
    "gbtr_model = GradientBoostedTrees.trainRegressor(train_rdd2, \n",
    "                    {0: 4, 1: 12, 2: 7, 3: 4, 4: 24, 5: 2, 6: 2},\n",
    "                     maxDepth=10, maxBins=64)"
   ]
  },
  {
   "cell_type": "code",
   "execution_count": 132,
   "metadata": {},
   "outputs": [
    {
     "data": {
      "text/plain": [
       "76.9638339143844"
      ]
     },
     "execution_count": 132,
     "metadata": {},
     "output_type": "execute_result"
    }
   ],
   "source": [
    "evaluate_model(gbtr_model, validation_rdd2)"
   ]
  },
  {
   "cell_type": "markdown",
   "metadata": {},
   "source": [
    "## 线性回归算法训练模型"
   ]
  },
  {
   "cell_type": "code",
   "execution_count": 135,
   "metadata": {
    "collapsed": true
   },
   "outputs": [],
   "source": [
    "\"\"\"\n",
    "数据预处理\n",
    "\"\"\"\n",
    "train_rdd, validation_rdd, test_rdd = prepare_data(sc)"
   ]
  },
  {
   "cell_type": "code",
   "execution_count": 136,
   "metadata": {},
   "outputs": [
    {
     "name": "stdout",
     "output_type": "stream",
     "text": [
      "训练数据：13944\n",
      "验证数据：1692\n",
      "测试数据：1743\n"
     ]
    }
   ],
   "source": [
    "# 缓存数据\n",
    "print(\"训练数据：\" + str(train_rdd.persist().count()))\n",
    "print(\"验证数据：\" + str(validation_rdd.persist().count()))\n",
    "print(\"测试数据：\" + str(test_rdd.persist().count()))"
   ]
  },
  {
   "cell_type": "markdown",
   "metadata": {},
   "source": [
    "### LinearRegressionWithSGD 算法"
   ]
  },
  {
   "cell_type": "code",
   "execution_count": 137,
   "metadata": {
    "collapsed": true
   },
   "outputs": [],
   "source": [
    "from pyspark.mllib.regression import LinearRegressionWithSGD"
   ]
  },
  {
   "cell_type": "code",
   "execution_count": 139,
   "metadata": {},
   "outputs": [],
   "source": [
    "lr_model = LinearRegressionWithSGD.train(train_rdd, iterations=100, step=1.0)"
   ]
  },
  {
   "cell_type": "code",
   "execution_count": 141,
   "metadata": {},
   "outputs": [
    {
     "data": {
      "text/plain": [
       "[(-7.9378113396752435e+157, 40.0),\n",
       " (-2.0894303193384901e+158, 2.0),\n",
       " (-2.6074634455872108e+158, 8.0),\n",
       " (-2.3953373439593952e+157, 17.0),\n",
       " (-2.0508341123816214e+158, 1.0),\n",
       " (-2.5688829063424619e+158, 20.0),\n",
       " (-5.305656546015105e+157, 2.0),\n",
       " (-3.8984762626847825e+158, 77.0),\n",
       " (-4.4166316355918556e+158, 76.0),\n",
       " (-3.2565671349183053e+157, 5.0),\n",
       " (-1.3628082329851984e+158, 2.0),\n",
       " (-3.9551400651402161e+158, 63.0),\n",
       " (-4.2146881639332074e+158, 65.0),\n",
       " (-5.5088865772992951e+158, 54.0),\n",
       " (-5.7693344873912617e+158, 48.0),\n",
       " (-2.1931161333599686e+158, 88.0),\n",
       " (-3.2847618347502878e+158, 59.0),\n",
       " (-3.3637744658643496e+158, 67.0),\n",
       " (-4.6590220497750529e+158, 87.0),\n",
       " (-5.1935357154315489e+158, 55.0)]"
      ]
     },
     "execution_count": 141,
     "metadata": {},
     "output_type": "execute_result"
    }
   ],
   "source": [
    "lr_model\\\n",
    "    .predict(validation_rdd.map(lambda lp: lp.features))\\\n",
    "    .zip(validation_rdd.map(lambda lp: lp.label))\\\n",
    "    .take(20)"
   ]
  },
  {
   "cell_type": "code",
   "execution_count": 143,
   "metadata": {},
   "outputs": [
    {
     "name": "stdout",
     "output_type": "stream",
     "text": [
      "\n"
     ]
    }
   ],
   "source": [
    "\"\"\"\n",
    "出现上述重要原因在于特征数据中存在大量的（7个特征）类别特征，未进行转换，应该使用1-of-K进行转换操作\n",
    "\"\"\"\n",
    "print"
   ]
  },
  {
   "cell_type": "code",
   "execution_count": null,
   "metadata": {
    "collapsed": true
   },
   "outputs": [],
   "source": []
  }
 ],
 "metadata": {
  "anaconda-cloud": {},
  "kernelspec": {
   "display_name": "Python 3",
   "language": "python",
   "name": "python3"
  },
  "language_info": {
   "codemirror_mode": {
    "name": "ipython",
    "version": 3
   },
   "file_extension": ".py",
   "mimetype": "text/x-python",
   "name": "python",
   "nbconvert_exporter": "python",
   "pygments_lexer": "ipython3",
   "version": "3.7.3"
  }
 },
 "nbformat": 4,
 "nbformat_minor": 1
}
