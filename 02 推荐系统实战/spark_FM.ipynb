{
 "cells": [
  {
   "cell_type": "code",
   "execution_count": 1,
   "metadata": {
    "ExecuteTime": {
     "end_time": "2022-03-01T15:00:34.052508Z",
     "start_time": "2022-03-01T15:00:33.886257Z"
    }
   },
   "outputs": [],
   "source": [
    "from pyspark.ml import Pipeline\n",
    "from pyspark.ml.classification import FMClassifier\n",
    "from pyspark.ml.feature import MinMaxScaler, StringIndexer\n",
    "from pyspark.ml.evaluation import MulticlassClassificationEvaluator\n",
    "# $example off$\n",
    "from pyspark.sql import SparkSession\n"
   ]
  },
  {
   "cell_type": "code",
   "execution_count": 16,
   "metadata": {
    "ExecuteTime": {
     "end_time": "2022-03-01T15:07:58.079613Z",
     "start_time": "2022-03-01T15:07:57.754697Z"
    }
   },
   "outputs": [],
   "source": [
    "spark = SparkSession \\\n",
    "    .builder \\\n",
    "    .appName(\"FMClassifierExample\") \\\n",
    "    .getOrCreate()\n",
    "\n",
    "# $example on$\n",
    "# Load and parse the data file, converting it to a DataFrame.\n",
    "\n",
    "\n",
    "data = spark.read.option(\"delimiter\", \"\\t\").csv(\"./movie_sample.txt\",inferSchema=\"true\")"
   ]
  },
  {
   "cell_type": "code",
   "execution_count": 17,
   "metadata": {
    "ExecuteTime": {
     "end_time": "2022-03-01T15:07:59.158440Z",
     "start_time": "2022-03-01T15:07:59.035255Z"
    }
   },
   "outputs": [
    {
     "name": "stdout",
     "output_type": "stream",
     "text": [
      "+---+---+---+--------------------+---+---+---+---+\n",
      "|_c0|_c1|_c2|                 _c3|_c4|_c5|_c6|_c7|\n",
      "+---+---+---+--------------------+---+---+---+---+\n",
      "|  1|  1|  1|186,0,0,0,0,0,0,0...|  1|112|  2|  1|\n",
      "|  1|  1|  1|186,0,0,0,0,0,0,0...|  1| 38|  5|  0|\n",
      "|  1|  1|  1|186,0,0,0,0,0,0,0...|  1|151|  7|  0|\n",
      "|  1|  1|  1|186,0,0,0,0,0,0,0...|  1| 77|  6|  0|\n",
      "|  1|  1|  1|186,0,0,0,0,0,0,0...|  1|188|  9|  0|\n",
      "|  1|  1|  1|186,0,0,0,0,0,0,0...|  1|164|  9|  0|\n",
      "|  1|  1|  1|112,186,0,0,0,0,0...|  2| 84|  7|  1|\n",
      "|  1|  1|  1|112,186,0,0,0,0,0...|  2| 76|  8|  0|\n",
      "|  1|  1|  1|112,186,0,0,0,0,0...|  2|162|  6|  0|\n",
      "|  1|  1|  1|112,186,0,0,0,0,0...|  2| 94|  1|  0|\n",
      "|  1|  1|  1|112,186,0,0,0,0,0...|  2| 73|  5|  0|\n",
      "|  1|  1|  1|112,186,0,0,0,0,0...|  2| 49|  7|  0|\n",
      "|  1|  1|  1|84,112,186,0,0,0,...|  3| 52|  4|  1|\n",
      "|  1|  1|  1|84,112,186,0,0,0,...|  3|205|  3|  0|\n",
      "|  1|  1|  1|84,112,186,0,0,0,...|  3|100|  2|  0|\n",
      "|  1|  1|  1|84,112,186,0,0,0,...|  3|141|  9|  0|\n",
      "|  1|  1|  1|84,112,186,0,0,0,...|  3|135|  9|  0|\n",
      "|  1|  1|  1|84,112,186,0,0,0,...|  3| 32|  9|  0|\n",
      "|  1|  1|  1|52,84,112,186,0,0...|  4|145|  6|  1|\n",
      "|  1|  1|  1|52,84,112,186,0,0...|  4|136|  2|  0|\n",
      "+---+---+---+--------------------+---+---+---+---+\n",
      "only showing top 20 rows\n",
      "\n"
     ]
    }
   ],
   "source": [
    "data.show()"
   ]
  },
  {
   "cell_type": "code",
   "execution_count": 18,
   "metadata": {
    "ExecuteTime": {
     "end_time": "2022-03-01T15:08:06.218337Z",
     "start_time": "2022-03-01T15:08:06.215030Z"
    }
   },
   "outputs": [
    {
     "name": "stdout",
     "output_type": "stream",
     "text": [
      "root\n",
      " |-- _c0: integer (nullable = true)\n",
      " |-- _c1: integer (nullable = true)\n",
      " |-- _c2: integer (nullable = true)\n",
      " |-- _c3: string (nullable = true)\n",
      " |-- _c4: integer (nullable = true)\n",
      " |-- _c5: integer (nullable = true)\n",
      " |-- _c6: integer (nullable = true)\n",
      " |-- _c7: integer (nullable = true)\n",
      "\n"
     ]
    }
   ],
   "source": [
    "data.printSchema()"
   ]
  },
  {
   "cell_type": "code",
   "execution_count": 10,
   "metadata": {
    "ExecuteTime": {
     "end_time": "2022-03-01T15:05:29.860284Z",
     "start_time": "2022-03-01T15:05:29.857845Z"
    }
   },
   "outputs": [],
   "source": [
    "from pyspark.ml.linalg import Vectors\n",
    "from pyspark.ml.feature import VectorAssembler"
   ]
  },
  {
   "cell_type": "code",
   "execution_count": 19,
   "metadata": {
    "ExecuteTime": {
     "end_time": "2022-03-01T15:08:20.585280Z",
     "start_time": "2022-03-01T15:08:20.581959Z"
    }
   },
   "outputs": [
    {
     "name": "stdout",
     "output_type": "stream",
     "text": [
      "['_c0', '_c1', '_c2', '_c4', '_c5', '_c6']\n"
     ]
    }
   ],
   "source": [
    "features_cols =['_c0', '_c1', '_c2', '_c4', '_c5', '_c6']\n",
    "\n",
    "\n",
    "print(features_cols)"
   ]
  },
  {
   "cell_type": "code",
   "execution_count": 20,
   "metadata": {
    "ExecuteTime": {
     "end_time": "2022-03-01T15:08:23.154499Z",
     "start_time": "2022-03-01T15:08:23.147754Z"
    }
   },
   "outputs": [],
   "source": [
    "# 组合特征到向量\n",
    "assembler = VectorAssembler(\n",
    "    inputCols=features_cols,\n",
    "    outputCol=\"raw_features\")"
   ]
  },
  {
   "cell_type": "code",
   "execution_count": 21,
   "metadata": {
    "ExecuteTime": {
     "end_time": "2022-03-01T15:08:23.776469Z",
     "start_time": "2022-03-01T15:08:23.696917Z"
    }
   },
   "outputs": [],
   "source": [
    "data_df2 = assembler.transform(data)"
   ]
  },
  {
   "cell_type": "code",
   "execution_count": 22,
   "metadata": {
    "ExecuteTime": {
     "end_time": "2022-03-01T15:08:36.282427Z",
     "start_time": "2022-03-01T15:08:35.948355Z"
    }
   },
   "outputs": [
    {
     "name": "stdout",
     "output_type": "stream",
     "text": [
      "root\n",
      " |-- _c0: integer (nullable = true)\n",
      " |-- _c1: integer (nullable = true)\n",
      " |-- _c2: integer (nullable = true)\n",
      " |-- _c3: string (nullable = true)\n",
      " |-- _c4: integer (nullable = true)\n",
      " |-- _c5: integer (nullable = true)\n",
      " |-- _c6: integer (nullable = true)\n",
      " |-- _c7: integer (nullable = true)\n",
      " |-- raw_features: vector (nullable = true)\n",
      "\n",
      "+---+---+---+-----------------------------------------------------------------------------------------------------+---+---+---+---+---------------------------+\n",
      "|_c0|_c1|_c2|_c3                                                                                                  |_c4|_c5|_c6|_c7|raw_features               |\n",
      "+---+---+---+-----------------------------------------------------------------------------------------------------+---+---+---+---+---------------------------+\n",
      "|1  |1  |1  |186,0,0,0,0,0,0,0,0,0,0,0,0,0,0,0,0,0,0,0,0,0,0,0,0,0,0,0,0,0,0,0,0,0,0,0,0,0,0,0,0,0,0,0,0,0,0,0,0,0|1  |112|2  |1  |[1.0,1.0,1.0,1.0,112.0,2.0]|\n",
      "|1  |1  |1  |186,0,0,0,0,0,0,0,0,0,0,0,0,0,0,0,0,0,0,0,0,0,0,0,0,0,0,0,0,0,0,0,0,0,0,0,0,0,0,0,0,0,0,0,0,0,0,0,0,0|1  |38 |5  |0  |[1.0,1.0,1.0,1.0,38.0,5.0] |\n",
      "|1  |1  |1  |186,0,0,0,0,0,0,0,0,0,0,0,0,0,0,0,0,0,0,0,0,0,0,0,0,0,0,0,0,0,0,0,0,0,0,0,0,0,0,0,0,0,0,0,0,0,0,0,0,0|1  |151|7  |0  |[1.0,1.0,1.0,1.0,151.0,7.0]|\n",
      "|1  |1  |1  |186,0,0,0,0,0,0,0,0,0,0,0,0,0,0,0,0,0,0,0,0,0,0,0,0,0,0,0,0,0,0,0,0,0,0,0,0,0,0,0,0,0,0,0,0,0,0,0,0,0|1  |77 |6  |0  |[1.0,1.0,1.0,1.0,77.0,6.0] |\n",
      "|1  |1  |1  |186,0,0,0,0,0,0,0,0,0,0,0,0,0,0,0,0,0,0,0,0,0,0,0,0,0,0,0,0,0,0,0,0,0,0,0,0,0,0,0,0,0,0,0,0,0,0,0,0,0|1  |188|9  |0  |[1.0,1.0,1.0,1.0,188.0,9.0]|\n",
      "+---+---+---+-----------------------------------------------------------------------------------------------------+---+---+---+---+---------------------------+\n",
      "only showing top 5 rows\n",
      "\n"
     ]
    }
   ],
   "source": [
    "data_df2.printSchema()\n",
    "data_df2.show(5, False)"
   ]
  },
  {
   "cell_type": "code",
   "execution_count": 25,
   "metadata": {
    "ExecuteTime": {
     "end_time": "2022-03-01T15:11:22.629147Z",
     "start_time": "2022-03-01T15:11:19.789569Z"
    }
   },
   "outputs": [
    {
     "name": "stdout",
     "output_type": "stream",
     "text": [
      "+----------+------------+\n",
      "|prediction|indexedLabel|\n",
      "+----------+------------+\n",
      "|       0.0|         1.0|\n",
      "|       0.0|         0.0|\n",
      "|       0.0|         1.0|\n",
      "|       0.0|         0.0|\n",
      "|       0.0|         0.0|\n",
      "+----------+------------+\n",
      "only showing top 5 rows\n",
      "\n"
     ]
    }
   ],
   "source": [
    "# Index labels, adding metadata to the label column.\n",
    "# Fit on whole dataset to include all labels in index.\n",
    "labelIndexer = StringIndexer(inputCol=\"_c7\", outputCol=\"indexedLabel\").fit(data)\n",
    "# Scale features.\n",
    "featureScaler = MinMaxScaler(inputCol=\"raw_features\", outputCol=\"scaledFeatures\").fit(data_df2)\n",
    "\n",
    "# Split the data into training and test sets (30% held out for testing)\n",
    "(trainingData, testData) = data_df2.randomSplit([0.7, 0.3])\n",
    "\n",
    "# Train a FM model.\n",
    "fm = FMClassifier(labelCol=\"indexedLabel\", featuresCol=\"scaledFeatures\", stepSize=0.001)\n",
    "\n",
    "# Create a Pipeline.\n",
    "pipeline = Pipeline(stages=[labelIndexer, featureScaler, fm])\n",
    "\n",
    "# Train model.\n",
    "model = pipeline.fit(trainingData)\n",
    "\n",
    "# Make predictions.\n",
    "predictions = model.transform(testData)\n",
    "\n",
    "# Select example rows to display.\n",
    "predictions.select(\"prediction\", \"indexedLabel\").show(5)"
   ]
  },
  {
   "cell_type": "code",
   "execution_count": 26,
   "metadata": {
    "ExecuteTime": {
     "end_time": "2022-03-01T15:11:38.842534Z",
     "start_time": "2022-03-01T15:11:38.564663Z"
    }
   },
   "outputs": [
    {
     "name": "stdout",
     "output_type": "stream",
     "text": [
      "Test set accuracy = 0.819071\n",
      "Factors: DenseMatrix([[ 0.1330383 , -0.11864123,  0.11330017, -0.13629388,  0.11957772,\n",
      "              -0.11329133, -0.14346172, -0.07030867],\n",
      "             [ 0.12839952, -0.12809056,  0.12460184,  0.13212282, -0.13688827,\n",
      "               0.12732801,  0.12477254, -0.12811037],\n",
      "             [-0.13290206,  0.12658505, -0.12257014, -0.13740224,  0.11728812,\n",
      "              -0.13022489,  0.11531875,  0.14038232],\n",
      "             [-0.09194098,  0.13996452, -0.13189047,  0.13261386,  0.10930607,\n",
      "              -0.13070978, -0.11144282,  0.12484725],\n",
      "             [-0.00859958, -0.11940727, -0.1232649 ,  0.1375973 ,  0.1111191 ,\n",
      "               0.10445189,  0.12537354,  0.12652078],\n",
      "             [-0.12505186,  0.13820904,  0.07334647, -0.13296544, -0.14616981,\n",
      "               0.10634416, -0.13609166, -0.13200748]])\n",
      "Linear: [-0.09134636110643793,-0.09175728099843432,-0.09134636110643793,-0.09241335370239907,-0.09269074096386501,-0.09251396751381845]\n",
      "Intercept: -0.09305812964161317\n"
     ]
    }
   ],
   "source": [
    "# Select (prediction, true label) and compute test accuracy\n",
    "evaluator = MulticlassClassificationEvaluator(\n",
    "    labelCol=\"indexedLabel\", predictionCol=\"prediction\", metricName=\"accuracy\")\n",
    "accuracy = evaluator.evaluate(predictions)\n",
    "print(\"Test set accuracy = %g\" % accuracy)\n",
    "\n",
    "fmModel = model.stages[2]\n",
    "print(\"Factors: \" + str(fmModel.factors))  # type: ignore\n",
    "print(\"Linear: \" + str(fmModel.linear))  # type: ignore\n",
    "print(\"Intercept: \" + str(fmModel.intercept))  # type: ignore\n"
   ]
  },
  {
   "cell_type": "code",
   "execution_count": null,
   "metadata": {},
   "outputs": [],
   "source": []
  }
 ],
 "metadata": {
  "kernelspec": {
   "display_name": "Python 3",
   "language": "python",
   "name": "python3"
  },
  "language_info": {
   "codemirror_mode": {
    "name": "ipython",
    "version": 3
   },
   "file_extension": ".py",
   "mimetype": "text/x-python",
   "name": "python",
   "nbconvert_exporter": "python",
   "pygments_lexer": "ipython3",
   "version": "3.7.3"
  },
  "toc": {
   "base_numbering": 1,
   "nav_menu": {},
   "number_sections": true,
   "sideBar": true,
   "skip_h1_title": false,
   "title_cell": "Table of Contents",
   "title_sidebar": "Contents",
   "toc_cell": false,
   "toc_position": {},
   "toc_section_display": true,
   "toc_window_display": false
  }
 },
 "nbformat": 4,
 "nbformat_minor": 2
}
