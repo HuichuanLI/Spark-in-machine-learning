{
 "cells": [
  {
   "cell_type": "markdown",
   "metadata": {},
   "source": [
    "## 使用Spark Mlib使用Als算法对MovieLens推荐"
   ]
  },
  {
   "cell_type": "code",
   "execution_count": 2,
   "metadata": {},
   "outputs": [],
   "source": [
    "from pyspark.sql import SparkSession\n",
    "spark = SparkSession.builder.appName(\"SparkSessionMoive\").master(\"local[3]\").getOrCreate()\n"
   ]
  },
  {
   "cell_type": "code",
   "execution_count": 4,
   "metadata": {},
   "outputs": [
    {
     "data": {
      "text/html": [
       "\n",
       "        <div>\n",
       "            <p><b>SparkContext</b></p>\n",
       "\n",
       "            <p><a href=\"http://192.168.31.109:4041\">Spark UI</a></p>\n",
       "\n",
       "            <dl>\n",
       "              <dt>Version</dt>\n",
       "                <dd><code>v2.4.4</code></dd>\n",
       "              <dt>Master</dt>\n",
       "                <dd><code>local[3]</code></dd>\n",
       "              <dt>AppName</dt>\n",
       "                <dd><code>SparkSessionMoive</code></dd>\n",
       "            </dl>\n",
       "        </div>\n",
       "        "
      ],
      "text/plain": [
       "<SparkContext master=local[3] appName=SparkSessionMoive>"
      ]
     },
     "execution_count": 4,
     "metadata": {},
     "output_type": "execute_result"
    }
   ],
   "source": [
    "# 获取SparkContext 实例对象\n",
    "sc = spark.sparkContext\n",
    "sc"
   ]
  },
  {
   "cell_type": "markdown",
   "metadata": {},
   "source": [
    "### 读取数据"
   ]
  },
  {
   "cell_type": "code",
   "execution_count": 11,
   "metadata": {},
   "outputs": [],
   "source": [
    "raw_rating_rdd = sc.textFile(\"ml-100k/u.data\")"
   ]
  },
  {
   "cell_type": "code",
   "execution_count": 13,
   "metadata": {},
   "outputs": [
    {
     "data": {
      "text/plain": [
       "100000"
      ]
     },
     "execution_count": 13,
     "metadata": {},
     "output_type": "execute_result"
    }
   ],
   "source": [
    "raw_rating_rdd.count()"
   ]
  },
  {
   "cell_type": "code",
   "execution_count": 14,
   "metadata": {},
   "outputs": [
    {
     "data": {
      "text/plain": [
       "'196\\t242\\t3\\t881250949'"
      ]
     },
     "execution_count": 14,
     "metadata": {},
     "output_type": "execute_result"
    }
   ],
   "source": [
    "raw_rating_rdd.first()"
   ]
  },
  {
   "cell_type": "markdown",
   "metadata": {},
   "source": [
    "### 获取评分字段三个字段，构建Rating对象"
   ]
  },
  {
   "cell_type": "code",
   "execution_count": 15,
   "metadata": {},
   "outputs": [],
   "source": [
    "rating_rdd = raw_rating_rdd.map(lambda line:line.split('\\t')[:3])"
   ]
  },
  {
   "cell_type": "code",
   "execution_count": 16,
   "metadata": {},
   "outputs": [
    {
     "data": {
      "text/plain": [
       "['196', '242', '3']"
      ]
     },
     "execution_count": 16,
     "metadata": {},
     "output_type": "execute_result"
    }
   ],
   "source": [
    "rating_rdd.first()"
   ]
  },
  {
   "cell_type": "code",
   "execution_count": 17,
   "metadata": {},
   "outputs": [],
   "source": [
    "from pyspark.mllib.recommendation import Rating,ALS,MatrixFactorizationModel"
   ]
  },
  {
   "cell_type": "code",
   "execution_count": 18,
   "metadata": {},
   "outputs": [],
   "source": [
    "rating_datas = rating_rdd.map(lambda x:Rating(int(x[0]),int(x[1]),float(x[2])))"
   ]
  },
  {
   "cell_type": "code",
   "execution_count": 19,
   "metadata": {},
   "outputs": [
    {
     "data": {
      "text/plain": [
       "Rating(user=196, product=242, rating=3.0)"
      ]
     },
     "execution_count": 19,
     "metadata": {},
     "output_type": "execute_result"
    }
   ],
   "source": [
    "rating_datas.first()"
   ]
  },
  {
   "cell_type": "code",
   "execution_count": 20,
   "metadata": {},
   "outputs": [
    {
     "data": {
      "text/plain": [
       "1682"
      ]
     },
     "execution_count": 20,
     "metadata": {},
     "output_type": "execute_result"
    }
   ],
   "source": [
    "# 多少电影\n",
    "rating_datas.map(lambda r:r[1]).distinct().count()"
   ]
  },
  {
   "cell_type": "code",
   "execution_count": 21,
   "metadata": {},
   "outputs": [
    {
     "data": {
      "text/plain": [
       "943"
      ]
     },
     "execution_count": 21,
     "metadata": {},
     "output_type": "execute_result"
    }
   ],
   "source": [
    "# 多少用户\n",
    "rating_datas.map(lambda r:r[0]).distinct().count()\n"
   ]
  },
  {
   "cell_type": "code",
   "execution_count": 22,
   "metadata": {},
   "outputs": [],
   "source": [
    "### 使用ALs 训练模型，显示评分\n",
    "\n",
    "alsModel = ALS.train(rating_datas,10,iterations=10,lambda_=0.01)\n"
   ]
  },
  {
   "cell_type": "markdown",
   "metadata": {},
   "source": [
    "### 因子矩阵"
   ]
  },
  {
   "cell_type": "code",
   "execution_count": 23,
   "metadata": {},
   "outputs": [],
   "source": [
    "# 用户因子矩阵\n",
    "user_feature_matrix = alsModel.userFeatures()"
   ]
  },
  {
   "cell_type": "code",
   "execution_count": 24,
   "metadata": {},
   "outputs": [
    {
     "data": {
      "text/plain": [
       "[(3,\n",
       "  array('d', [0.5679934620857239, 1.1584008932113647, -0.01744152419269085, -0.2927170395851135, 1.2023059129714966, -0.8768662214279175, -0.5001089572906494, 0.23603278398513794, -0.5952816605567932, -0.044205863028764725])),\n",
       " (6,\n",
       "  array('d', [0.24791546165943146, 0.37334519624710083, 0.3552496135234833, -0.954612672328949, 1.1089383363723755, 0.24255892634391785, 0.345123291015625, -0.44978687167167664, -0.03453666716814041, 0.7479900121688843])),\n",
       " (9,\n",
       "  array('d', [0.07044503092765808, -0.45361030101776123, 0.27649033069610596, 0.7094711065292358, 1.623976707458496, -0.9232061505317688, -0.06899941712617874, -0.6374589800834656, -1.3819851875305176, 1.4251552820205688])),\n",
       " (12,\n",
       "  array('d', [-0.4170413911342621, 0.1435934454202652, -0.08222322165966034, 0.37153246998786926, 2.1562912464141846, 0.4075556993484497, -0.4384736120700836, -0.7426102757453918, 0.1304176300764084, 0.6345940232276917])),\n",
       " (15,\n",
       "  array('d', [-1.7315791845321655, 0.8038485050201416, 0.45321497321128845, -0.09292981028556824, 1.0523470640182495, 0.12740246951580048, 0.6904695630073547, -1.0024287700653076, 0.7352803945541382, 0.2659822702407837])),\n",
       " (18,\n",
       "  array('d', [-0.07523021847009659, 0.6302308440208435, 0.6764623522758484, -0.1296582818031311, 1.2633564472198486, -0.35909271240234375, -0.15995176136493683, -0.608848512172699, 0.19115115702152252, 0.6117048859596252])),\n",
       " (21,\n",
       "  array('d', [-0.18118278682231903, 0.01169490348547697, 0.5693467259407043, -0.7412554025650024, 1.2148562669754028, -0.8814944624900818, 0.49090954661369324, -0.5164758563041687, 0.2487286925315857, 0.45205914974212646])),\n",
       " (24,\n",
       "  array('d', [-0.0813659206032753, 0.9299480319023132, -0.36860576272010803, -0.05109421908855438, 1.6112509965896606, -0.42581263184547424, -0.3135836124420166, -1.0065641403198242, 0.3932535946369171, 0.5467434525489807])),\n",
       " (27,\n",
       "  array('d', [-0.9412236213684082, -0.9647467732429504, 0.37241217494010925, 0.2923259437084198, 1.5203495025634766, -0.8083287477493286, -0.34529078006744385, -0.5101280808448792, 0.23218268156051636, 0.5372077226638794])),\n",
       " (30,\n",
       "  array('d', [-0.1458752304315567, 0.931549608707428, 0.4037208557128906, -0.4532110095024109, 1.0974488258361816, -0.9051001071929932, 0.11896257102489471, -0.27151063084602356, -0.45619601011276245, 1.1360671520233154]))]"
      ]
     },
     "execution_count": 24,
     "metadata": {},
     "output_type": "execute_result"
    }
   ],
   "source": [
    "user_feature_matrix.take(10)"
   ]
  },
  {
   "cell_type": "code",
   "execution_count": 25,
   "metadata": {},
   "outputs": [
    {
     "data": {
      "text/plain": [
       "[(3,\n",
       "  array('d', [1.7671175003051758, 0.6949833631515503, -0.37843751907348633, 0.8160123229026794, 1.1652936935424805, -0.44613760709762573, 0.9945740103721619, -0.9841098785400391, -0.1395951509475708, 0.8973357081413269])),\n",
       " (6,\n",
       "  array('d', [1.0796066522598267, 0.8354930281639099, -0.7928211688995361, -0.08586278557777405, 2.7411115169525146, 0.7135393023490906, -1.3845781087875366, -2.487330675125122, -0.03515879437327385, -0.24230197072029114])),\n",
       " (9,\n",
       "  array('d', [0.5038389563560486, 0.7315208911895752, 0.6264982223510742, -0.6882349848747253, 1.8037089109420776, -0.6926113367080688, -0.32757997512817383, -0.8761651515960693, -8.400730439461768e-05, 0.7704496383666992])),\n",
       " (12,\n",
       "  array('d', [0.1346028447151184, 0.0978146642446518, 0.031234920024871826, -0.6149269342422485, 2.060476303100586, -0.6492595076560974, 0.5750464797019958, -0.8115350008010864, 0.34140002727508545, 1.2026755809783936])),\n",
       " (15,\n",
       "  array('d', [-0.42976143956184387, 0.5683112144470215, 0.3047786056995392, 0.4159905016422272, 1.7402745485305786, -0.2486516684293747, 0.23119688034057617, -0.39917588233947754, 0.28782689571380615, 0.946955144405365])),\n",
       " (18,\n",
       "  array('d', [1.0092402696609497, 0.28206852078437805, 0.7545526027679443, -1.3026008605957031, 1.1448167562484741, -1.3536251783370972, 0.35759827494621277, -0.49709460139274597, 0.3458975851535797, 0.15180057287216187])),\n",
       " (21,\n",
       "  array('d', [0.18849745392799377, 0.5355098843574524, 0.8262636065483093, 0.3203125596046448, 0.4357776939868927, 0.15801885724067688, -0.011746368370950222, -0.2548603117465973, 0.5662194490432739, 1.8351436853408813])),\n",
       " (24,\n",
       "  array('d', [0.15589717030525208, -0.445117712020874, 0.14010030031204224, 0.11806865781545639, 1.4017126560211182, -1.3450981378555298, 0.6174178123474121, -0.6772850155830383, 0.31573089957237244, 0.6472066044807434])),\n",
       " (27,\n",
       "  array('d', [0.4618203938007355, 0.40647199749946594, 0.20586390793323517, 0.6898903846740723, 1.4419639110565186, -0.37518519163131714, 0.19296769797801971, 0.6616770029067993, -0.2633056342601776, 1.3419567346572876])),\n",
       " (30,\n",
       "  array('d', [0.5379272699356079, 1.4563583135604858, 0.7418317198753357, -0.7813259363174438, 1.6648064851760864, -0.8812493681907654, 0.1419578343629837, -0.2586497664451599, -0.5106775164604187, 0.6391557455062866]))]"
      ]
     },
     "execution_count": 25,
     "metadata": {},
     "output_type": "execute_result"
    }
   ],
   "source": [
    "items_feature_matrix = alsModel.productFeatures()\n",
    "items_feature_matrix.take(10)"
   ]
  },
  {
   "cell_type": "markdown",
   "metadata": {},
   "source": [
    "### 预测电影的评分"
   ]
  },
  {
   "cell_type": "code",
   "execution_count": 27,
   "metadata": {},
   "outputs": [
    {
     "name": "stdout",
     "output_type": "stream",
     "text": [
      "\n"
     ]
    }
   ],
   "source": [
    "\"\"\"\n",
    "    假设 用户196 对242 的评分\n",
    "\"\"\"\n",
    "print()"
   ]
  },
  {
   "cell_type": "code",
   "execution_count": 28,
   "metadata": {},
   "outputs": [],
   "source": [
    "predictRating = alsModel.predict(196,242)"
   ]
  },
  {
   "cell_type": "code",
   "execution_count": 29,
   "metadata": {},
   "outputs": [
    {
     "data": {
      "text/plain": [
       "3.7579470665607837"
      ]
     },
     "execution_count": 29,
     "metadata": {},
     "output_type": "execute_result"
    }
   ],
   "source": [
    "predictRating"
   ]
  },
  {
   "cell_type": "markdown",
   "metadata": {},
   "source": [
    "### 推荐用户10个电影"
   ]
  },
  {
   "cell_type": "code",
   "execution_count": 30,
   "metadata": {},
   "outputs": [
    {
     "data": {
      "text/plain": [
       "[Rating(user=196, product=697, rating=8.848426459912666),\n",
       " Rating(user=196, product=1195, rating=8.411406532002296),\n",
       " Rating(user=196, product=1159, rating=8.366264062379887),\n",
       " Rating(user=196, product=1164, rating=8.311640815652936),\n",
       " Rating(user=196, product=1185, rating=8.296127731458164),\n",
       " Rating(user=196, product=320, rating=8.229154024591214),\n",
       " Rating(user=196, product=962, rating=8.17995963621281),\n",
       " Rating(user=196, product=1313, rating=8.06875255927036),\n",
       " Rating(user=196, product=1470, rating=7.956241414325695),\n",
       " Rating(user=196, product=6, rating=7.9173682522716184)]"
      ]
     },
     "execution_count": 30,
     "metadata": {},
     "output_type": "execute_result"
    }
   ],
   "source": [
    "alsModel.recommendProducts(196,10)"
   ]
  },
  {
   "cell_type": "markdown",
   "metadata": {},
   "source": [
    " ### 为电影推荐10个用户\n"
   ]
  },
  {
   "cell_type": "code",
   "execution_count": 31,
   "metadata": {},
   "outputs": [],
   "source": [
    "rmdUsers = alsModel.recommendUsers(242,10)"
   ]
  },
  {
   "cell_type": "code",
   "execution_count": 32,
   "metadata": {},
   "outputs": [
    {
     "data": {
      "text/plain": [
       "[Rating(user=98, product=242, rating=7.518467465424361),\n",
       " Rating(user=362, product=242, rating=6.705834625655482),\n",
       " Rating(user=928, product=242, rating=5.702171610993095),\n",
       " Rating(user=242, product=242, rating=5.5542468273521015),\n",
       " Rating(user=547, product=242, rating=5.525047844693219),\n",
       " Rating(user=212, product=242, rating=5.451140004742371),\n",
       " Rating(user=765, product=242, rating=5.324843534669615),\n",
       " Rating(user=563, product=242, rating=5.285712673350488),\n",
       " Rating(user=675, product=242, rating=5.271586266837323),\n",
       " Rating(user=443, product=242, rating=5.271164127631113)]"
      ]
     },
     "execution_count": 32,
     "metadata": {},
     "output_type": "execute_result"
    }
   ],
   "source": [
    "rmdUsers"
   ]
  },
  {
   "cell_type": "markdown",
   "metadata": {},
   "source": [
    "### 找到最佳模型"
   ]
  },
  {
   "cell_type": "code",
   "execution_count": 33,
   "metadata": {},
   "outputs": [
    {
     "name": "stdout",
     "output_type": "stream",
     "text": [
      "\n"
     ]
    }
   ],
   "source": [
    "\"\"\"\n",
    "    如何找到最佳模型？\n",
    "    -模型评估？\n",
    "    计算Rmse\n",
    "    -b 模型优化\n",
    "     -i 数据\n",
    "     -ii 超参数，找到最有模型\n",
    "     交叉验证\n",
    "     k-folds\n",
    "\"\"\"\n",
    "\n",
    "print()"
   ]
  }
 ],
 "metadata": {
  "kernelspec": {
   "display_name": "Python 3",
   "language": "python",
   "name": "python3"
  },
  "language_info": {
   "codemirror_mode": {
    "name": "ipython",
    "version": 3
   },
   "file_extension": ".py",
   "mimetype": "text/x-python",
   "name": "python",
   "nbconvert_exporter": "python",
   "pygments_lexer": "ipython3",
   "version": "3.7.3"
  }
 },
 "nbformat": 4,
 "nbformat_minor": 2
}
