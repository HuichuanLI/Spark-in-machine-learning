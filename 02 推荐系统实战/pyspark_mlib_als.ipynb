{
 "cells": [
  {
   "cell_type": "markdown",
   "metadata": {},
   "source": [
    "## 使用Spark Mlib使用Als算法对MovieLens推荐"
   ]
  },
  {
   "cell_type": "code",
   "execution_count": 1,
   "metadata": {},
   "outputs": [],
   "source": [
    "from pyspark.sql import SparkSession\n",
    "spark = SparkSession.builder.appName(\"SparkSessionMoive\").master(\"local[3]\").getOrCreate()\n"
   ]
  },
  {
   "cell_type": "code",
   "execution_count": 2,
   "metadata": {},
   "outputs": [
    {
     "data": {
      "text/html": [
       "\n",
       "        <div>\n",
       "            <p><b>SparkContext</b></p>\n",
       "\n",
       "            <p><a href=\"http://192.168.31.109:4041\">Spark UI</a></p>\n",
       "\n",
       "            <dl>\n",
       "              <dt>Version</dt>\n",
       "                <dd><code>v2.4.4</code></dd>\n",
       "              <dt>Master</dt>\n",
       "                <dd><code>local[3]</code></dd>\n",
       "              <dt>AppName</dt>\n",
       "                <dd><code>SparkSessionMoive</code></dd>\n",
       "            </dl>\n",
       "        </div>\n",
       "        "
      ],
      "text/plain": [
       "<SparkContext master=local[3] appName=SparkSessionMoive>"
      ]
     },
     "execution_count": 2,
     "metadata": {},
     "output_type": "execute_result"
    }
   ],
   "source": [
    "# 获取SparkContext 实例对象\n",
    "sc = spark.sparkContext\n",
    "sc"
   ]
  },
  {
   "cell_type": "markdown",
   "metadata": {},
   "source": [
    "### 读取数据"
   ]
  },
  {
   "cell_type": "code",
   "execution_count": 3,
   "metadata": {},
   "outputs": [],
   "source": [
    "raw_rating_rdd = sc.textFile(\"ml-100k/u.data\")"
   ]
  },
  {
   "cell_type": "code",
   "execution_count": 4,
   "metadata": {},
   "outputs": [
    {
     "data": {
      "text/plain": [
       "100000"
      ]
     },
     "execution_count": 4,
     "metadata": {},
     "output_type": "execute_result"
    }
   ],
   "source": [
    "raw_rating_rdd.count()"
   ]
  },
  {
   "cell_type": "code",
   "execution_count": 5,
   "metadata": {},
   "outputs": [
    {
     "data": {
      "text/plain": [
       "'196\\t242\\t3\\t881250949'"
      ]
     },
     "execution_count": 5,
     "metadata": {},
     "output_type": "execute_result"
    }
   ],
   "source": [
    "raw_rating_rdd.first()"
   ]
  },
  {
   "cell_type": "markdown",
   "metadata": {},
   "source": [
    "### 获取评分字段三个字段，构建Rating对象"
   ]
  },
  {
   "cell_type": "code",
   "execution_count": 6,
   "metadata": {},
   "outputs": [],
   "source": [
    "rating_rdd = raw_rating_rdd.map(lambda line:line.split('\\t')[:3])"
   ]
  },
  {
   "cell_type": "code",
   "execution_count": 7,
   "metadata": {},
   "outputs": [
    {
     "data": {
      "text/plain": [
       "['196', '242', '3']"
      ]
     },
     "execution_count": 7,
     "metadata": {},
     "output_type": "execute_result"
    }
   ],
   "source": [
    "rating_rdd.first()"
   ]
  },
  {
   "cell_type": "code",
   "execution_count": 8,
   "metadata": {},
   "outputs": [],
   "source": [
    "from pyspark.mllib.recommendation import Rating,ALS,MatrixFactorizationModel"
   ]
  },
  {
   "cell_type": "code",
   "execution_count": 9,
   "metadata": {},
   "outputs": [],
   "source": [
    "rating_datas = rating_rdd.map(lambda x:Rating(int(x[0]),int(x[1]),float(x[2])))"
   ]
  },
  {
   "cell_type": "code",
   "execution_count": 10,
   "metadata": {},
   "outputs": [
    {
     "data": {
      "text/plain": [
       "Rating(user=196, product=242, rating=3.0)"
      ]
     },
     "execution_count": 10,
     "metadata": {},
     "output_type": "execute_result"
    }
   ],
   "source": [
    "rating_datas.first()"
   ]
  },
  {
   "cell_type": "code",
   "execution_count": 11,
   "metadata": {},
   "outputs": [
    {
     "data": {
      "text/plain": [
       "1682"
      ]
     },
     "execution_count": 11,
     "metadata": {},
     "output_type": "execute_result"
    }
   ],
   "source": [
    "# 多少电影\n",
    "rating_datas.map(lambda r:r[1]).distinct().count()"
   ]
  },
  {
   "cell_type": "code",
   "execution_count": 12,
   "metadata": {},
   "outputs": [
    {
     "data": {
      "text/plain": [
       "943"
      ]
     },
     "execution_count": 12,
     "metadata": {},
     "output_type": "execute_result"
    }
   ],
   "source": [
    "# 多少用户\n",
    "rating_datas.map(lambda r:r[0]).distinct().count()\n"
   ]
  },
  {
   "cell_type": "code",
   "execution_count": 24,
   "metadata": {},
   "outputs": [
    {
     "name": "stdout",
     "output_type": "stream",
     "text": [
      "80037\n",
      "19963\n"
     ]
    }
   ],
   "source": [
    "training_rating,test_rating = rating_datas.randomSplit([0.8,0.2])\n",
    "print(training_rating.count())\n",
    "print(test_rating.count())"
   ]
  },
  {
   "cell_type": "code",
   "execution_count": 25,
   "metadata": {},
   "outputs": [],
   "source": [
    "### 使用ALs 训练模型，显示评分\n",
    "\n",
    "alsModel = ALS.train(training_rating,10,iterations=10,lambda_=0.01)\n"
   ]
  },
  {
   "cell_type": "markdown",
   "metadata": {},
   "source": [
    "### 因子矩阵"
   ]
  },
  {
   "cell_type": "code",
   "execution_count": 26,
   "metadata": {},
   "outputs": [],
   "source": [
    "# 用户因子矩阵\n",
    "user_feature_matrix = alsModel.userFeatures()"
   ]
  },
  {
   "cell_type": "code",
   "execution_count": 27,
   "metadata": {},
   "outputs": [
    {
     "data": {
      "text/plain": [
       "[(3,\n",
       "  array('d', [0.26273101568222046, -0.7966914772987366, 0.5379903316497803, 0.6863815784454346, 1.4810526371002197, 1.0480250120162964, -1.002285122871399, 0.8649678230285645, 1.0076770782470703, -0.409518301486969])),\n",
       " (6,\n",
       "  array('d', [-0.20214079320430756, -0.6967804431915283, -0.5829652547836304, 0.7341719269752502, 1.1057270765304565, 0.40645018219947815, -0.15274442732334137, 0.045949287712574005, -0.36013802886009216, 0.5093827247619629])),\n",
       " (9,\n",
       "  array('d', [-1.3699228763580322, -0.43036577105522156, -0.36677050590515137, 0.16159939765930176, 0.7613000273704529, 1.4941519498825073, 0.15905465185642242, 1.0225193500518799, 1.525156021118164, 0.7727831602096558])),\n",
       " (12,\n",
       "  array('d', [-0.1039961501955986, -0.17539279162883759, -1.7739858627319336, -0.1035904511809349, 0.024163661524653435, 1.2499287128448486, 0.6960067749023438, 0.4165094792842865, -0.522911012172699, 0.43696433305740356])),\n",
       " (15,\n",
       "  array('d', [1.1873477697372437, 0.60807865858078, -0.35449495911598206, 0.054169707000255585, 1.193320870399475, 1.0176626443862915, -0.036787260323762894, 0.780019223690033, -1.160698413848877, 0.6843755841255188])),\n",
       " (18,\n",
       "  array('d', [-0.29452282190322876, 0.028484344482421875, -1.1117405891418457, 0.46063315868377686, 0.8482871055603027, 0.6200973391532898, -0.4247799217700958, 0.5242257118225098, 0.3253818452358246, 0.15753388404846191])),\n",
       " (21,\n",
       "  array('d', [0.49581611156463623, -0.6518362760543823, -0.8758292198181152, 0.4206949770450592, 1.163225769996643, 0.4620685279369354, -0.4990931451320648, 0.3416345417499542, 0.18220964074134827, 0.38085776567459106])),\n",
       " (24,\n",
       "  array('d', [0.28362181782722473, -0.4608845114707947, -0.8894286155700684, 1.2568594217300415, 0.28785908222198486, 1.2526599168777466, 0.22441768646240234, 0.3119311034679413, 0.17819277942180634, -0.16962333023548126])),\n",
       " (27,\n",
       "  array('d', [2.4352951049804688, 0.3608782887458801, -1.95224130153656, 0.3776269257068634, 0.3609928786754608, 0.14243961870670319, 0.04587190970778465, -0.04790506511926651, -0.012055977247655392, -0.3630504906177521])),\n",
       " (30,\n",
       "  array('d', [0.7058171629905701, 0.6118888258934021, -1.857741117477417, 1.3098763227462769, 0.3714672327041626, 0.16380277276039124, -0.011376884765923023, 0.5863237977027893, -0.40691375732421875, 0.24757122993469238]))]"
      ]
     },
     "execution_count": 27,
     "metadata": {},
     "output_type": "execute_result"
    }
   ],
   "source": [
    "user_feature_matrix.take(10)"
   ]
  },
  {
   "cell_type": "code",
   "execution_count": 28,
   "metadata": {},
   "outputs": [
    {
     "data": {
      "text/plain": [
       "[(3,\n",
       "  array('d', [0.639057457447052, -0.7139704823493958, -1.2860432863235474, 0.7057095170021057, 0.5718122720718384, 0.8859282732009888, 0.48903515934944153, 0.8280932903289795, -0.17675898969173431, -1.5686227083206177])),\n",
       " (6,\n",
       "  array('d', [-0.8623830080032349, -0.34811490774154663, -0.9198046922683716, -0.5609152913093567, 3.1571204662323, -0.27579477429389954, -0.28691333532333374, 1.3063271045684814, 0.3578945994377136, -0.38141077756881714])),\n",
       " (9,\n",
       "  array('d', [-0.11969849467277527, -0.5340414643287659, -1.6247047185897827, 0.7910805344581604, 1.5078996419906616, 1.4247907400131226, -0.5407723784446716, 0.12178927659988403, -0.30500853061676025, -0.35088956356048584])),\n",
       " (12,\n",
       "  array('d', [0.4556500315666199, -0.28397276997566223, -1.9089922904968262, 1.0745095014572144, 1.4100193977355957, 1.2386577129364014, 0.12190335988998413, -0.14721651375293732, 0.1453382968902588, 0.05340651422739029])),\n",
       " (15,\n",
       "  array('d', [0.25318643450737, -0.009844603948295116, -1.1379681825637817, 0.16784130036830902, 1.070075273513794, 1.667073369026184, 0.6507900953292847, 0.6389931440353394, 0.027000613510608673, 0.4442020058631897])),\n",
       " (18,\n",
       "  array('d', [-0.13119803369045258, -0.510775625705719, -1.216389775276184, 0.5187065601348877, 1.4754598140716553, 0.43874260783195496, -0.043886732310056686, -0.4639979898929596, 0.38756006956100464, -0.5111653804779053])),\n",
       " (21,\n",
       "  array('d', [-0.19585230946540833, -0.6595465540885925, -0.2750336825847626, -0.049499429762363434, 1.2764946222305298, 0.9740564227104187, 0.4858693480491638, 0.44233033061027527, 0.8913290500640869, 0.029598627239465714])),\n",
       " (24,\n",
       "  array('d', [-0.059537649154663086, -1.2268714904785156, -0.7577142715454102, 0.5939013361930847, 1.385344386100769, 1.0121480226516724, 0.7376610040664673, 0.13263875246047974, 0.3655339479446411, -0.44091787934303284])),\n",
       " (27,\n",
       "  array('d', [0.38313108682632446, -0.015865376219153404, -1.0416600704193115, -0.5787004828453064, 0.7653268575668335, 1.766729712486267, 0.6876027584075928, 0.2609882354736328, 0.13704246282577515, 0.19867931306362152])),\n",
       " (30,\n",
       "  array('d', [0.06364661455154419, -0.18934176862239838, -1.929307222366333, -0.5918815732002258, 1.1075586080551147, 2.115034580230713, -0.02199658192694187, 0.5031886100769043, 0.29428380727767944, 0.38171887397766113]))]"
      ]
     },
     "execution_count": 28,
     "metadata": {},
     "output_type": "execute_result"
    }
   ],
   "source": [
    "items_feature_matrix = alsModel.productFeatures()\n",
    "items_feature_matrix.take(10)"
   ]
  },
  {
   "cell_type": "markdown",
   "metadata": {},
   "source": [
    "### 预测电影的评分"
   ]
  },
  {
   "cell_type": "code",
   "execution_count": 29,
   "metadata": {},
   "outputs": [
    {
     "name": "stdout",
     "output_type": "stream",
     "text": [
      "\n"
     ]
    }
   ],
   "source": [
    "\"\"\"\n",
    "    假设 用户196 对242 的评分\n",
    "\"\"\"\n",
    "print()"
   ]
  },
  {
   "cell_type": "code",
   "execution_count": 30,
   "metadata": {},
   "outputs": [],
   "source": [
    "predictRating = alsModel.predict(196,242)"
   ]
  },
  {
   "cell_type": "code",
   "execution_count": 31,
   "metadata": {},
   "outputs": [
    {
     "data": {
      "text/plain": [
       "4.522511606950817"
      ]
     },
     "execution_count": 31,
     "metadata": {},
     "output_type": "execute_result"
    }
   ],
   "source": [
    "predictRating"
   ]
  },
  {
   "cell_type": "markdown",
   "metadata": {},
   "source": [
    "### 推荐用户10个电影"
   ]
  },
  {
   "cell_type": "code",
   "execution_count": 32,
   "metadata": {},
   "outputs": [
    {
     "data": {
      "text/plain": [
       "[Rating(user=196, product=1185, rating=9.417061526508956),\n",
       " Rating(user=196, product=1311, rating=9.016676700102195),\n",
       " Rating(user=196, product=816, rating=8.83813082631952),\n",
       " Rating(user=196, product=543, rating=7.974469014315799),\n",
       " Rating(user=196, product=1280, rating=7.761011476194967),\n",
       " Rating(user=196, product=838, rating=7.656773616855159),\n",
       " Rating(user=196, product=1540, rating=7.354337688399311),\n",
       " Rating(user=196, product=1062, rating=7.123444979002269),\n",
       " Rating(user=196, product=451, rating=7.107345796576136),\n",
       " Rating(user=196, product=632, rating=6.980526582874688)]"
      ]
     },
     "execution_count": 32,
     "metadata": {},
     "output_type": "execute_result"
    }
   ],
   "source": [
    "alsModel.recommendProducts(196,10)"
   ]
  },
  {
   "cell_type": "markdown",
   "metadata": {},
   "source": [
    " ### 为电影推荐10个用户\n"
   ]
  },
  {
   "cell_type": "code",
   "execution_count": 33,
   "metadata": {},
   "outputs": [],
   "source": [
    "rmdUsers = alsModel.recommendUsers(242,10)"
   ]
  },
  {
   "cell_type": "code",
   "execution_count": 34,
   "metadata": {},
   "outputs": [
    {
     "data": {
      "text/plain": [
       "[Rating(user=316, product=242, rating=6.047563993365451),\n",
       " Rating(user=278, product=242, rating=5.987279922615861),\n",
       " Rating(user=917, product=242, rating=5.80848228533929),\n",
       " Rating(user=861, product=242, rating=5.733157484681389),\n",
       " Rating(user=928, product=242, rating=5.717461606644183),\n",
       " Rating(user=79, product=242, rating=5.707868825712748),\n",
       " Rating(user=310, product=242, rating=5.65363877918395),\n",
       " Rating(user=174, product=242, rating=5.638155996221412),\n",
       " Rating(user=879, product=242, rating=5.6082500619073015),\n",
       " Rating(user=859, product=242, rating=5.607247615789483)]"
      ]
     },
     "execution_count": 34,
     "metadata": {},
     "output_type": "execute_result"
    }
   ],
   "source": [
    "rmdUsers"
   ]
  },
  {
   "cell_type": "markdown",
   "metadata": {},
   "source": [
    "### 找到最佳模型"
   ]
  },
  {
   "cell_type": "code",
   "execution_count": 23,
   "metadata": {},
   "outputs": [
    {
     "name": "stdout",
     "output_type": "stream",
     "text": [
      "\n"
     ]
    }
   ],
   "source": [
    "\"\"\"\n",
    "    如何找到最佳模型？\n",
    "    -模型评估？\n",
    "    计算Rmse\n",
    "    -b 模型优化\n",
    "     -i 数据\n",
    "     -ii 超参数，找到最有模型\n",
    "     交叉验证\n",
    "     k-folds\n",
    "\"\"\"\n",
    "\n",
    "print()"
   ]
  },
  {
   "cell_type": "markdown",
   "metadata": {},
   "source": [
    "###  ALS 模型评估 类似于回归算法的评分指标"
   ]
  },
  {
   "cell_type": "code",
   "execution_count": 35,
   "metadata": {},
   "outputs": [],
   "source": [
    "from pyspark.mllib.regression import LabeledPoint, LinearRegressionWithSGD\n",
    "from pyspark.mllib.evaluation import RegressionMetrics\n",
    "from pyspark.mllib.linalg import DenseVector\n"
   ]
  },
  {
   "cell_type": "code",
   "execution_count": 37,
   "metadata": {},
   "outputs": [],
   "source": [
    "# 针对测试数据集的预测\n",
    "\n",
    "predict_rdd = alsModel.predictAll(test_rating.map(lambda r:(r[0],r[1])))"
   ]
  },
  {
   "cell_type": "code",
   "execution_count": 38,
   "metadata": {},
   "outputs": [
    {
     "data": {
      "text/plain": [
       "[Rating(user=138, product=147, rating=3.2054993354563885),\n",
       " Rating(user=303, product=147, rating=3.115569319724756),\n",
       " Rating(user=291, product=147, rating=3.893184151324582),\n",
       " Rating(user=543, product=147, rating=3.5730742535959985),\n",
       " Rating(user=621, product=147, rating=4.156794691637347)]"
      ]
     },
     "execution_count": 38,
     "metadata": {},
     "output_type": "execute_result"
    }
   ],
   "source": [
    "predict_rdd.take(5)"
   ]
  },
  {
   "cell_type": "code",
   "execution_count": 40,
   "metadata": {},
   "outputs": [],
   "source": [
    "predict_actual = test_rating.map(lambda r:((r[0],r[1]),r[2])).join(predict_rdd.map(lambda r:((r[0],r[1]),r[2])))\n",
    "                                                        \n",
    "        "
   ]
  },
  {
   "cell_type": "code",
   "execution_count": 41,
   "metadata": {},
   "outputs": [
    {
     "data": {
      "text/plain": [
       "[((196, 242), (3.0, 4.522511606950817)),\n",
       " ((157, 274), (4.0, 3.053131513650943)),\n",
       " ((160, 174), (5.0, 4.080812895491672)),\n",
       " ((298, 317), (4.0, 3.519803787242259)),\n",
       " ((293, 471), (3.0, 2.625111266705221))]"
      ]
     },
     "execution_count": 41,
     "metadata": {},
     "output_type": "execute_result"
    }
   ],
   "source": [
    "predict_actual.take(5)"
   ]
  },
  {
   "cell_type": "code",
   "execution_count": 42,
   "metadata": {},
   "outputs": [
    {
     "name": "stdout",
     "output_type": "stream",
     "text": [
      "MSE = 1.225593707817282\n",
      "RMSE = 1.1070653584216616\n"
     ]
    }
   ],
   "source": [
    "metrics = RegressionMetrics(predict_actual.map(lambda pr:pr[1]))\n",
    "print(\"MSE = %s\" % metrics.meanSquaredError)\n",
    "print(\"RMSE = %s\" % metrics.rootMeanSquaredError)\n"
   ]
  },
  {
   "cell_type": "markdown",
   "metadata": {},
   "source": [
    "## ALS超参数调整"
   ]
  },
  {
   "cell_type": "code",
   "execution_count": 44,
   "metadata": {},
   "outputs": [],
   "source": [
    "# 定义一个\n",
    "def alsModelEvaluate(model,testing_rdd):\n",
    "    # 对测试数据集预测评分\n",
    "    predict_rdd = model.predictAll(testing_rdd.map(lambda r:(r[0],r[1])))\n",
    "    # yuce\n",
    "    predict_actual = testing_rdd.map(lambda r:((r[0],r[1]),r[2])).join(predict_rdd.map(lambda r:((r[0],r[1]),r[2])))\n",
    "    metrics = RegressionMetrics(predict_actual.map(lambda pr:pr[1]))\n",
    "    print(\"RMSE = %s\" % metrics.rootMeanSquaredError)\n",
    "    # 返回均方差误差\n",
    "    return metrics.rootMeanSquaredError"
   ]
  },
  {
   "cell_type": "code",
   "execution_count": 45,
   "metadata": {},
   "outputs": [],
   "source": [
    "def train_model_evaluate(training_rdd,testing_rdd,rank,iterations,lambda_):\n",
    "    # 使用 超参数的值，训练模型和ALS算法，训练模型\n",
    "    \n",
    "    model = ALS.train(training_rdd,rank,iterations,lambda_)\n",
    "    rmse_value = alsModelEvaluate(model,testing_rdd)\n",
    "    return (model,rmse_value,rank,iterations,lambda_)"
   ]
  },
  {
   "cell_type": "code",
   "execution_count": 47,
   "metadata": {},
   "outputs": [
    {
     "name": "stdout",
     "output_type": "stream",
     "text": [
      "RMSE = 1.2895417477562912\n",
      "RMSE = 1.0882235322451779\n",
      "RMSE = 0.9221961995824908\n",
      "RMSE = 1.3255015463862032\n",
      "RMSE = 1.1029445026972444\n",
      "RMSE = 0.9234782229535952\n",
      "RMSE = 1.4889757493960436\n",
      "RMSE = 1.1841195192060103\n",
      "RMSE = 0.9253320419403732\n",
      "RMSE = 1.5808020761640527\n",
      "RMSE = 1.205907168633097\n",
      "RMSE = 0.9226740745335592\n"
     ]
    }
   ],
   "source": [
    "# 三重for循环\n",
    "mertic_list = [   train_model_evaluate(training_rating,test_rating,param_rank,param_iteration,param_lambda)\n",
    "    for param_rank in [10,20]\n",
    "    for param_iteration in [10,20]\n",
    "    for param_lambda in [0.001,0.01,0.1]\n",
    "    \n",
    "]"
   ]
  },
  {
   "cell_type": "code",
   "execution_count": 57,
   "metadata": {},
   "outputs": [],
   "source": [
    "sortedlist = sorted(mertic_list,key=lambda k:k[1],reverse=False)"
   ]
  },
  {
   "cell_type": "code",
   "execution_count": 63,
   "metadata": {},
   "outputs": [
    {
     "data": {
      "text/plain": [
       "(<pyspark.mllib.recommendation.MatrixFactorizationModel at 0x7fd8407b8518>,\n",
       " 0.9221961995824908,\n",
       " 10,\n",
       " 10,\n",
       " 0.1)"
      ]
     },
     "execution_count": 63,
     "metadata": {},
     "output_type": "execute_result"
    }
   ],
   "source": [
    "model,rmse_value,rank,iterations,lambda_ = sortedlist[0]\n",
    "sortedlist[0]"
   ]
  },
  {
   "cell_type": "markdown",
   "metadata": {},
   "source": [
    "### 模型保存"
   ]
  },
  {
   "cell_type": "code",
   "execution_count": 61,
   "metadata": {},
   "outputs": [],
   "source": [
    "best_model = model \n",
    "best_model.save(sc,'als-model')"
   ]
  },
  {
   "cell_type": "markdown",
   "metadata": {},
   "source": [
    "### 模型加载"
   ]
  },
  {
   "cell_type": "code",
   "execution_count": 62,
   "metadata": {},
   "outputs": [],
   "source": [
    "load_model = MatrixFactorizationModel.load(sc,'als-model')"
   ]
  }
 ],
 "metadata": {
  "kernelspec": {
   "display_name": "Python 3",
   "language": "python",
   "name": "python3"
  },
  "language_info": {
   "codemirror_mode": {
    "name": "ipython",
    "version": 3
   },
   "file_extension": ".py",
   "mimetype": "text/x-python",
   "name": "python",
   "nbconvert_exporter": "python",
   "pygments_lexer": "ipython3",
   "version": "3.7.3"
  }
 },
 "nbformat": 4,
 "nbformat_minor": 2
}
