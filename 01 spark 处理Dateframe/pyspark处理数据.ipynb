{
 "cells": [
  {
   "cell_type": "markdown",
   "metadata": {},
   "source": [
    "# 基于Spark2.x + jupyter 的Pyspark 数据分析\n"
   ]
  },
  {
   "cell_type": "markdown",
   "metadata": {},
   "source": [
    "### 导入pyspark 包"
   ]
  },
  {
   "cell_type": "code",
   "execution_count": 1,
   "metadata": {},
   "outputs": [],
   "source": [
    "from pyspark.sql import SparkSession\n"
   ]
  },
  {
   "cell_type": "code",
   "execution_count": 2,
   "metadata": {},
   "outputs": [],
   "source": [
    "spark = SparkSession.builder.appName(\"SparkSessionExample\").master(\"local[3]\").getOrCreate()\n"
   ]
  },
  {
   "cell_type": "code",
   "execution_count": 3,
   "metadata": {},
   "outputs": [
    {
     "data": {
      "text/plain": [
       "pyspark.sql.session.SparkSession"
      ]
     },
     "execution_count": 3,
     "metadata": {},
     "output_type": "execute_result"
    }
   ],
   "source": [
    "type(spark)"
   ]
  },
  {
   "cell_type": "code",
   "execution_count": 4,
   "metadata": {},
   "outputs": [],
   "source": [
    "# 如何使用\n",
    "spark?"
   ]
  },
  {
   "cell_type": "code",
   "execution_count": 5,
   "metadata": {},
   "outputs": [],
   "source": [
    "## 查看远吗\n",
    "spark??"
   ]
  },
  {
   "cell_type": "markdown",
   "metadata": {},
   "source": [
    "## 读取spark dataframe"
   ]
  },
  {
   "cell_type": "code",
   "execution_count": 8,
   "metadata": {},
   "outputs": [],
   "source": [
    "df = spark.read.csv('flights.csv',header=True,inferSchema=True)"
   ]
  },
  {
   "cell_type": "code",
   "execution_count": 9,
   "metadata": {},
   "outputs": [
    {
     "name": "stdout",
     "output_type": "stream",
     "text": [
      "root\n",
      " |-- year: integer (nullable = true)\n",
      " |-- month: integer (nullable = true)\n",
      " |-- day: integer (nullable = true)\n",
      " |-- dep_time: string (nullable = true)\n",
      " |-- dep_delay: string (nullable = true)\n",
      " |-- arr_time: string (nullable = true)\n",
      " |-- arr_delay: string (nullable = true)\n",
      " |-- carrier: string (nullable = true)\n",
      " |-- tailnum: string (nullable = true)\n",
      " |-- flight: integer (nullable = true)\n",
      " |-- origin: string (nullable = true)\n",
      " |-- dest: string (nullable = true)\n",
      " |-- air_time: string (nullable = true)\n",
      " |-- distance: integer (nullable = true)\n",
      " |-- hour: string (nullable = true)\n",
      " |-- minute: string (nullable = true)\n",
      "\n"
     ]
    }
   ],
   "source": [
    "df.printSchema()"
   ]
  },
  {
   "cell_type": "code",
   "execution_count": 10,
   "metadata": {},
   "outputs": [
    {
     "name": "stdout",
     "output_type": "stream",
     "text": [
      "+----+-----+---+--------+---------+--------+---------+-------+-------+------+------+----+--------+--------+----+------+\n",
      "|year|month|day|dep_time|dep_delay|arr_time|arr_delay|carrier|tailnum|flight|origin|dest|air_time|distance|hour|minute|\n",
      "+----+-----+---+--------+---------+--------+---------+-------+-------+------+------+----+--------+--------+----+------+\n",
      "|2014|1    |1  |1       |96       |235     |70       |AS     |N508AS |145   |PDX   |ANC |194     |1542    |0   |1     |\n",
      "|2014|1    |1  |4       |-6       |738     |-23      |US     |N195UW |1830  |SEA   |CLT |252     |2279    |0   |4     |\n",
      "|2014|1    |1  |8       |13       |548     |-4       |UA     |N37422 |1609  |PDX   |IAH |201     |1825    |0   |8     |\n",
      "|2014|1    |1  |28      |-2       |800     |-23      |US     |N547UW |466   |PDX   |CLT |251     |2282    |0   |28    |\n",
      "|2014|1    |1  |34      |44       |325     |43       |AS     |N762AS |121   |SEA   |ANC |201     |1448    |0   |34    |\n",
      "|2014|1    |1  |37      |82       |747     |88       |DL     |N806DN |1823  |SEA   |DTW |224     |1927    |0   |37    |\n",
      "|2014|1    |1  |346     |227      |936     |219      |UA     |N14219 |1481  |SEA   |ORD |202     |1721    |3   |46    |\n",
      "|2014|1    |1  |526     |-4       |1148    |15       |UA     |N813UA |229   |PDX   |IAH |217     |1825    |5   |26    |\n",
      "|2014|1    |1  |527     |7        |917     |24       |UA     |N75433 |1576  |SEA   |DEN |136     |1024    |5   |27    |\n",
      "|2014|1    |1  |536     |1        |1334    |-6       |UA     |N574UA |478   |SEA   |EWR |268     |2402    |5   |36    |\n",
      "+----+-----+---+--------+---------+--------+---------+-------+-------+------+------+----+--------+--------+----+------+\n",
      "only showing top 10 rows\n",
      "\n"
     ]
    }
   ],
   "source": [
    "df.show(10,truncate=False)"
   ]
  },
  {
   "cell_type": "markdown",
   "metadata": {},
   "source": [
    "### 4.缓存数据"
   ]
  },
  {
   "cell_type": "code",
   "execution_count": 11,
   "metadata": {},
   "outputs": [
    {
     "data": {
      "text/plain": [
       "DataFrame[year: int, month: int, day: int, dep_time: string, dep_delay: string, arr_time: string, arr_delay: string, carrier: string, tailnum: string, flight: int, origin: string, dest: string, air_time: string, distance: int, hour: string, minute: string]"
      ]
     },
     "execution_count": 11,
     "metadata": {},
     "output_type": "execute_result"
    }
   ],
   "source": [
    "# 直接将内存放在\n",
    "df.cache()"
   ]
  },
  {
   "cell_type": "code",
   "execution_count": 12,
   "metadata": {},
   "outputs": [
    {
     "data": {
      "text/plain": [
       "52535"
      ]
     },
     "execution_count": 12,
     "metadata": {},
     "output_type": "execute_result"
    }
   ],
   "source": [
    "df.count()"
   ]
  },
  {
   "cell_type": "code",
   "execution_count": 13,
   "metadata": {},
   "outputs": [
    {
     "data": {
      "text/plain": [
       "['year',\n",
       " 'month',\n",
       " 'day',\n",
       " 'dep_time',\n",
       " 'dep_delay',\n",
       " 'arr_time',\n",
       " 'arr_delay',\n",
       " 'carrier',\n",
       " 'tailnum',\n",
       " 'flight',\n",
       " 'origin',\n",
       " 'dest',\n",
       " 'air_time',\n",
       " 'distance',\n",
       " 'hour',\n",
       " 'minute']"
      ]
     },
     "execution_count": 13,
     "metadata": {},
     "output_type": "execute_result"
    }
   ],
   "source": [
    "# 获取列名称\n",
    "\n",
    "df.columns"
   ]
  },
  {
   "cell_type": "code",
   "execution_count": 14,
   "metadata": {},
   "outputs": [
    {
     "data": {
      "text/plain": [
       "StructType(List(StructField(year,IntegerType,true),StructField(month,IntegerType,true),StructField(day,IntegerType,true),StructField(dep_time,StringType,true),StructField(dep_delay,StringType,true),StructField(arr_time,StringType,true),StructField(arr_delay,StringType,true),StructField(carrier,StringType,true),StructField(tailnum,StringType,true),StructField(flight,IntegerType,true),StructField(origin,StringType,true),StructField(dest,StringType,true),StructField(air_time,StringType,true),StructField(distance,IntegerType,true),StructField(hour,StringType,true),StructField(minute,StringType,true)))"
      ]
     },
     "execution_count": 14,
     "metadata": {},
     "output_type": "execute_result"
    }
   ],
   "source": [
    "# 显示sechma\n",
    "df.schema"
   ]
  },
  {
   "cell_type": "code",
   "execution_count": 16,
   "metadata": {},
   "outputs": [
    {
     "name": "stdout",
     "output_type": "stream",
     "text": [
      "+-------+----+----+--------+\n",
      "|tailnum|dest|dest|dep_time|\n",
      "+-------+----+----+--------+\n",
      "| N508AS| ANC| ANC|       1|\n",
      "| N195UW| CLT| CLT|       4|\n",
      "| N37422| IAH| IAH|       8|\n",
      "| N547UW| CLT| CLT|      28|\n",
      "| N762AS| ANC| ANC|      34|\n",
      "| N806DN| DTW| DTW|      37|\n",
      "| N14219| ORD| ORD|     346|\n",
      "| N813UA| IAH| IAH|     526|\n",
      "| N75433| DEN| DEN|     527|\n",
      "| N574UA| EWR| EWR|     536|\n",
      "| N36476| DEN| DEN|     541|\n",
      "| N548UW| PHX| PHX|     549|\n",
      "| N660DL| SLC| SLC|     550|\n",
      "| N3JLAA| DFW| DFW|     557|\n",
      "| N562AS| ANC| ANC|     557|\n",
      "| N402AS| SJC| SJC|     558|\n",
      "| N210FR| DEN| DEN|     559|\n",
      "| N3JFAA| ORD| ORD|     600|\n",
      "| N786AS| LAX| LAX|     600|\n",
      "| N201FR| DEN| DEN|     602|\n",
      "+-------+----+----+--------+\n",
      "only showing top 20 rows\n",
      "\n"
     ]
    }
   ],
   "source": [
    "df.select(df['tailnum'],df['dest'],df['dest'],df['dep_time']).show()"
   ]
  },
  {
   "cell_type": "code",
   "execution_count": 18,
   "metadata": {},
   "outputs": [
    {
     "name": "stdout",
     "output_type": "stream",
     "text": [
      "+-------+----+----+--------+\n",
      "|tailnum|dest|dest|dep_time|\n",
      "+-------+----+----+--------+\n",
      "| N686DA| JFK| JFK|     654|\n",
      "| N3DNAA| JFK| JFK|     708|\n",
      "| N3772H| JFK| JFK|     708|\n",
      "| N635JB| JFK| JFK|    2130|\n",
      "| N727TW| JFK| JFK|    2312|\n",
      "| N593JB| JFK| JFK|    2324|\n",
      "| N379DA| JFK| JFK|      14|\n",
      "| N705TW| JFK| JFK|      55|\n",
      "| N630JB| JFK| JFK|     158|\n",
      "| N703TW| JFK| JFK|     659|\n",
      "| N3748Y| JFK| JFK|     704|\n",
      "| N3CYAA| JFK| JFK|     719|\n",
      "| N717TW| JFK| JFK|    1435|\n",
      "| N635JB| JFK| JFK|    2307|\n",
      "| N372DA| JFK| JFK|     707|\n",
      "| N718TW| JFK| JFK|     708|\n",
      "| N3EEAA| JFK| JFK|      NA|\n",
      "| N537JB| JFK| JFK|      NA|\n",
      "| N625JB| JFK| JFK|      NA|\n",
      "| N722TW| JFK| JFK|      NA|\n",
      "+-------+----+----+--------+\n",
      "only showing top 20 rows\n",
      "\n"
     ]
    }
   ],
   "source": [
    "df.filter(df['dest']=='JFK').select(df['tailnum'],df['dest'],df['dest'],df['dep_time']).show()"
   ]
  },
  {
   "cell_type": "code",
   "execution_count": 22,
   "metadata": {},
   "outputs": [
    {
     "name": "stdout",
     "output_type": "stream",
     "text": [
      "+---+-------------------+------------------+\n",
      "|day|     avg(arr_delay)|    avg(dep_delay)|\n",
      "+---+-------------------+------------------+\n",
      "| 31|  5.796638655462185| 6.382229673093042|\n",
      "| 28|-3.4050632911392404| 4.110270951480781|\n",
      "| 26|-1.5248683440608544| 4.833430742255991|\n",
      "| 27| -4.354777070063694| 4.864126984126984|\n",
      "| 12| 3.4215626892792246|  8.09437386569873|\n",
      "| 22|-1.0817571690054912|  6.10231425091352|\n",
      "|  1|  2.139888494678155| 6.820577800304106|\n",
      "| 13|  1.419454770755886| 5.684177997527812|\n",
      "|  6| 3.1785932721712538| 7.075045759609518|\n",
      "| 16|0.31582125603864736|4.2917420132610005|\n",
      "|  3|  5.629350893697084|11.526241799437676|\n",
      "| 20|  4.462529274004684| 8.391228070175439|\n",
      "|  5|   4.42015503875969| 8.219989696032973|\n",
      "| 19| 2.8462462462462463| 7.208383233532934|\n",
      "| 15| 1.0819155639571518| 4.818353236957888|\n",
      "|  9| 1.1156626506024097| 5.931407942238267|\n",
      "| 17| 1.8664688427299703| 5.873815165876778|\n",
      "|  4|  3.204905467552376|   9.6158940397351|\n",
      "|  8|   0.52455919395466| 4.555904522613066|\n",
      "| 23|  2.352836879432624| 6.307105108631826|\n",
      "+---+-------------------+------------------+\n",
      "only showing top 20 rows\n",
      "\n"
     ]
    }
   ],
   "source": [
    "daily_count = df.groupBy(df.day).agg({'arr_delay':'mean','dep_delay':'mean'})\n",
    "daily_count.show()"
   ]
  },
  {
   "cell_type": "code",
   "execution_count": 25,
   "metadata": {},
   "outputs": [
    {
     "name": "stdout",
     "output_type": "stream",
     "text": [
      "+---+-------------------+------------------+\n",
      "|day|      avg_arr_delay|     avg_dep_delay|\n",
      "+---+-------------------+------------------+\n",
      "| 31|  5.796638655462185| 6.382229673093042|\n",
      "| 28|-3.4050632911392404| 4.110270951480781|\n",
      "| 26|-1.5248683440608544| 4.833430742255991|\n",
      "| 27| -4.354777070063694| 4.864126984126984|\n",
      "| 12| 3.4215626892792246|  8.09437386569873|\n",
      "| 22|-1.0817571690054912|  6.10231425091352|\n",
      "|  1|  2.139888494678155| 6.820577800304106|\n",
      "| 13|  1.419454770755886| 5.684177997527812|\n",
      "|  6| 3.1785932721712538| 7.075045759609518|\n",
      "| 16|0.31582125603864736|4.2917420132610005|\n",
      "|  3|  5.629350893697084|11.526241799437676|\n",
      "| 20|  4.462529274004684| 8.391228070175439|\n",
      "|  5|   4.42015503875969| 8.219989696032973|\n",
      "| 19| 2.8462462462462463| 7.208383233532934|\n",
      "| 15| 1.0819155639571518| 4.818353236957888|\n",
      "|  9| 1.1156626506024097| 5.931407942238267|\n",
      "| 17| 1.8664688427299703| 5.873815165876778|\n",
      "|  4|  3.204905467552376|   9.6158940397351|\n",
      "|  8|   0.52455919395466| 4.555904522613066|\n",
      "| 23|  2.352836879432624| 6.307105108631826|\n",
      "+---+-------------------+------------------+\n",
      "only showing top 20 rows\n",
      "\n"
     ]
    }
   ],
   "source": [
    "daily_count.withColumnRenamed('avg(arr_delay)','avg_arr_delay')\\\n",
    ".withColumnRenamed('avg(dep_delay)','avg_dep_delay').show()"
   ]
  },
  {
   "cell_type": "markdown",
   "metadata": {},
   "source": [
    "### 5.基于SQL对Dataframe数据分析"
   ]
  },
  {
   "cell_type": "markdown",
   "metadata": {},
   "source": [
    "a.第一步将DataFrame注册为临时视图"
   ]
  },
  {
   "cell_type": "code",
   "execution_count": 26,
   "metadata": {},
   "outputs": [],
   "source": [
    "df.createOrReplaceTempView('view_tmp_flights')"
   ]
  },
  {
   "cell_type": "code",
   "execution_count": 27,
   "metadata": {},
   "outputs": [
    {
     "name": "stdout",
     "output_type": "stream",
     "text": [
      "+----+---------+\n",
      "|dest|arr_delay|\n",
      "+----+---------+\n",
      "| ANC|       70|\n",
      "| CLT|      -23|\n",
      "| IAH|       -4|\n",
      "| CLT|      -23|\n",
      "| ANC|       43|\n",
      "| DTW|       88|\n",
      "| ORD|      219|\n",
      "| IAH|       15|\n",
      "| DEN|       24|\n",
      "| EWR|       -6|\n",
      "| DEN|        4|\n",
      "| PHX|       12|\n",
      "| SLC|      -12|\n",
      "| DFW|      -16|\n",
      "| ANC|      -25|\n",
      "| SJC|       -2|\n",
      "| DEN|       -9|\n",
      "| ORD|      -19|\n",
      "| LAX|       -8|\n",
      "| DEN|        5|\n",
      "+----+---------+\n",
      "only showing top 20 rows\n",
      "\n"
     ]
    }
   ],
   "source": [
    "# b .第二部构建SQL\n",
    "sql = 'select dest,arr_delay from view_tmp_flights'\n",
    "spark_dest_df = spark.sql(sql)\n",
    "spark_dest_df.show()"
   ]
  },
  {
   "cell_type": "markdown",
   "metadata": {},
   "source": [
    "### 6. 将SparkSQL中的DataFrame转换成Pandas"
   ]
  },
  {
   "cell_type": "code",
   "execution_count": 28,
   "metadata": {},
   "outputs": [],
   "source": [
    "local_pandas = daily_count.toPandas()"
   ]
  },
  {
   "cell_type": "code",
   "execution_count": 29,
   "metadata": {},
   "outputs": [
    {
     "data": {
      "text/html": [
       "<div>\n",
       "<style scoped>\n",
       "    .dataframe tbody tr th:only-of-type {\n",
       "        vertical-align: middle;\n",
       "    }\n",
       "\n",
       "    .dataframe tbody tr th {\n",
       "        vertical-align: top;\n",
       "    }\n",
       "\n",
       "    .dataframe thead th {\n",
       "        text-align: right;\n",
       "    }\n",
       "</style>\n",
       "<table border=\"1\" class=\"dataframe\">\n",
       "  <thead>\n",
       "    <tr style=\"text-align: right;\">\n",
       "      <th></th>\n",
       "      <th>day</th>\n",
       "      <th>avg(arr_delay)</th>\n",
       "      <th>avg(dep_delay)</th>\n",
       "    </tr>\n",
       "  </thead>\n",
       "  <tbody>\n",
       "    <tr>\n",
       "      <th>0</th>\n",
       "      <td>31</td>\n",
       "      <td>5.796639</td>\n",
       "      <td>6.382230</td>\n",
       "    </tr>\n",
       "    <tr>\n",
       "      <th>1</th>\n",
       "      <td>28</td>\n",
       "      <td>-3.405063</td>\n",
       "      <td>4.110271</td>\n",
       "    </tr>\n",
       "    <tr>\n",
       "      <th>2</th>\n",
       "      <td>26</td>\n",
       "      <td>-1.524868</td>\n",
       "      <td>4.833431</td>\n",
       "    </tr>\n",
       "    <tr>\n",
       "      <th>3</th>\n",
       "      <td>27</td>\n",
       "      <td>-4.354777</td>\n",
       "      <td>4.864127</td>\n",
       "    </tr>\n",
       "    <tr>\n",
       "      <th>4</th>\n",
       "      <td>12</td>\n",
       "      <td>3.421563</td>\n",
       "      <td>8.094374</td>\n",
       "    </tr>\n",
       "  </tbody>\n",
       "</table>\n",
       "</div>"
      ],
      "text/plain": [
       "   day  avg(arr_delay)  avg(dep_delay)\n",
       "0   31        5.796639        6.382230\n",
       "1   28       -3.405063        4.110271\n",
       "2   26       -1.524868        4.833431\n",
       "3   27       -4.354777        4.864127\n",
       "4   12        3.421563        8.094374"
      ]
     },
     "execution_count": 29,
     "metadata": {},
     "output_type": "execute_result"
    }
   ],
   "source": [
    "local_pandas.head()"
   ]
  }
 ],
 "metadata": {
  "kernelspec": {
   "display_name": "Python 3",
   "language": "python",
   "name": "python3"
  },
  "language_info": {
   "codemirror_mode": {
    "name": "ipython",
    "version": 3
   },
   "file_extension": ".py",
   "mimetype": "text/x-python",
   "name": "python",
   "nbconvert_exporter": "python",
   "pygments_lexer": "ipython3",
   "version": "3.7.3"
  }
 },
 "nbformat": 4,
 "nbformat_minor": 2
}
